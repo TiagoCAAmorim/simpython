{
 "cells": [
  {
   "cell_type": "markdown",
   "metadata": {},
   "source": [
    "## Generate New Files\n",
    "\n",
    "* Given a template and a definition of the variables, generate a set of new files"
   ]
  },
  {
   "cell_type": "code",
   "execution_count": 2,
   "metadata": {},
   "outputs": [],
   "source": [
    "from pathlib import Path\n",
    "import re\n",
    "from pyDOE import lhs\n",
    "import numpy as np\n",
    "import pandas as pd\n",
    "\n",
    "from scipy import stats\n",
    "\n",
    "class TemplateProcessor:\n",
    "    def __init__(self, template_path, verbose=False, output_file_path=None, variables_table_path=None, all_uniform=False, n_samples=0):\n",
    "        self.template_path = Path(template_path)\n",
    "        if not self.template_path.exists():\n",
    "            raise FileNotFoundError(f\"Template file '{self.template_path}' not found.\")\n",
    "        \n",
    "        self._verbose = verbose\n",
    "        self._all_uniform = all_uniform\n",
    "\n",
    "        self._valid_distributions = {\n",
    "            'uniform':      {'parameters':2, 'description':('minimum','maximum'), 'types':['int','float']},\n",
    "            'normal':       {'parameters':2, 'description':('mean','std_var'), 'types':['float']},\n",
    "            'truncnormal':  {'parameters':4, 'description':('mean','std_var','minimum','maximum'), 'types':['float']},\n",
    "            'lognormal':    {'parameters':2, 'description':('mean','std_var'), 'types':['float']},\n",
    "            'triangular':   {'parameters':3, 'description':('minimum','maximum','most_likelly'), 'types':['float']},\n",
    "            'constant':     {'parameters':1, 'description':('value',), 'types':['int','float','str']},\n",
    "            'categorical':  {'parameters':2, 'description':('values_list','probabilities_list'), 'types':['int','float','str']},\n",
    "            'table':        {'parameters':0, 'description':('no parameters',), 'types':['str']}\n",
    "        }\n",
    "        # std_dev from mean to define limits of normal distribution variables when using option all_uniform=True\n",
    "        self._normal_limits_as_uniform = 2.\n",
    "\n",
    "        self.variables_raw = self._extract_raw_text()\n",
    "        self.variables = self._parse_variables()\n",
    "\n",
    "        if variables_table_path is not None:\n",
    "            self.set_variables_table(variables_table_path)\n",
    "\n",
    "        self.experiments_table = None\n",
    "        self._current_distribution = None\n",
    "        self._n_samples = n_samples\n",
    "        if output_file_path is not None:\n",
    "            self.set_output_file(output_file_path)\n",
    "            self.generate_experiments(self._n_samples)\n",
    "            self.create_new_files()\n",
    "\n",
    "    def __str__(self):\n",
    "        return str(self.variables)\n",
    "\n",
    "    def list_valid_distributions(self):\n",
    "        for k,v in self._valid_distributions.items():\n",
    "            print(f\"{k} distribution - parameters: {', '.join(v['description'])}; valid type(s): {', '.join(v['types'])}\")\n",
    "\n",
    "    def _extract_contents(self, text, open=r'\\(', close=r'\\)'):\n",
    "        pattern = f'{open}(.*?){close}'\n",
    "        matches = re.findall(pattern, text)\n",
    "        return matches\n",
    "    \n",
    "    def _custom_split(self, text, sep=',', open='{', close='}'):\n",
    "        result = []\n",
    "        current_token = ''\n",
    "        paren_count = 0\n",
    "\n",
    "        for char in text:\n",
    "            if char == sep and paren_count == 0:\n",
    "                result.append(current_token.strip())\n",
    "                current_token = ''\n",
    "            elif char == open:\n",
    "                paren_count += 1\n",
    "                current_token += char\n",
    "            elif char == close:\n",
    "                paren_count -= 1\n",
    "                current_token += char\n",
    "            else:\n",
    "                current_token += char\n",
    "\n",
    "        result.append(current_token.strip())\n",
    "        return result\n",
    "    \n",
    "    def _extract_raw_text(self):\n",
    "        variables_raw = []\n",
    "        with open(self.template_path, 'r') as file:\n",
    "            for line_num, line in enumerate(file, start=1):              \n",
    "                if line.count(r'<\\var>') != line.count('<var>'):\n",
    "                    raise ValueError(f\"Unclosed <\\\\var> <var> at line {line_num}.\")\n",
    "                parts = self._extract_contents(text=line, open=r'<\\\\var>', close=r'<var>')\n",
    "                if len(parts) > 0:\n",
    "                    for part in parts:\n",
    "                        var = part.strip()\n",
    "                        if var == '':\n",
    "                            raise ValueError(f\"Empty variable name at line {line_num}.\")\n",
    "                        variables_raw.append(var)\n",
    "        return variables_raw\n",
    "\n",
    "    def _transform_variable(self, variable, variable_type):\n",
    "        if isinstance(variable, list):\n",
    "            var = list()\n",
    "            for i in range(len(variable)):\n",
    "                var.append(self._transform_variable(variable=variable[i], variable_type=variable_type))\n",
    "                if var[-1] is None:\n",
    "                    return None\n",
    "            return var\n",
    "        else:                \n",
    "            try:\n",
    "                var_type = {'int': int,\n",
    "                            'str': str,\n",
    "                            'float': float}[variable_type.strip().lower()]\n",
    "                return var_type(variable)\n",
    "            except (ValueError, TypeError, NameError):\n",
    "                return None\n",
    "            \n",
    "    def _parse_distribution(self, text, var_type):\n",
    "        if text is None:\n",
    "            if self._verbose:\n",
    "                print(\"  No distribution provided. Will assume 'table'.\")\n",
    "            return 'table', list()\n",
    "\n",
    "        parameters = self._custom_split(text)\n",
    "        distribution = parameters[0].lower()\n",
    "        if distribution not in self._valid_distributions:\n",
    "            raise ValueError(f\"Invalid distribution: '{distribution}'.\")\n",
    "        parameters = parameters[1:]\n",
    "        if len(parameters) != self._valid_distributions[distribution]['parameters']:\n",
    "            raise ValueError(f\"Invalid number of parameters for distribution '{distribution}'. Expected {self._valid_distributions[distribution]['parameters']}, found {len(parameters)}.\")\n",
    "\n",
    "        if var_type is not None:\n",
    "            if var_type not in self._valid_distributions[distribution]['types']:\n",
    "                raise ValueError(f\"Invalid type ({var_type}) for distribution '{distribution}'. Valid option(s): {', '.join(self._valid_distributions[distribution]['types'])}.\")\n",
    "            \n",
    "            if distribution == 'categorical':\n",
    "                param_list = parameters[0].lstrip('{').rstrip('}').split(',')\n",
    "            else:\n",
    "                param_list = parameters\n",
    "\n",
    "            for i in range(len(param_list)):\n",
    "                new_value = self._transform_variable(variable=param_list[i], variable_type=var_type)\n",
    "                if new_value is None:\n",
    "                    raise ValueError(f\"Parameters for distribution '{distribution}' must be of type {var_type}. Cannot transform '{param_list[i]}'.\")\n",
    "                param_list[i] = new_value\n",
    "    \n",
    "            if distribution == 'categorical':\n",
    "                parameters[0] = param_list\n",
    "            else:\n",
    "                parameters = param_list\n",
    "\n",
    "        if distribution == 'categorical':\n",
    "            param_list = parameters[1].lstrip('{').rstrip('}').split(',')\n",
    "            if len(parameters[0]) != len(param_list):\n",
    "                raise ValueError(f\"Inconsistent number of values in distribution '{distribution}'. Values found: {len(parameters[0])}, associated probabilities: {len(param_list)}.\")\n",
    "            for i in range(len(param_list)):\n",
    "                new_value = self._transform_variable(variable=param_list[i], variable_type='float')\n",
    "                if new_value is None:\n",
    "                    raise ValueError(f\"Probabilities for distribution '{distribution}' must be of type float. Cannot transform '{param_list[i]}'.\")\n",
    "                param_list[i] = new_value\n",
    "            s = sum(param_list)\n",
    "            cum_list = [sum(param_list[:i+1])/s for i in range(len(param_list))]\n",
    "            parameters[1] = cum_list\n",
    "\n",
    "        return distribution, parameters\n",
    "    \n",
    "    def _check_variable_type(self, default, distribution, parameters):\n",
    "        var_type = None\n",
    "        for test_type in self._valid_distributions[distribution]['types']:\n",
    "            if var_type is None:\n",
    "                var_type = test_type\n",
    "    \n",
    "                if default is not None:\n",
    "                    default_mod = self._transform_variable(variable=default, variable_type=test_type)\n",
    "                    if default_mod is None:\n",
    "                        var_type = None\n",
    "                    else:\n",
    "                        default = default_mod\n",
    "\n",
    "                param_out = list()\n",
    "                for param in parameters:\n",
    "                    if var_type is not None:\n",
    "                        param_out.append(self._transform_variable(variable=param, variable_type=var_type))\n",
    "                        if param_out[-1] is None:\n",
    "                            var_type = None\n",
    "                \n",
    "                if var_type is not None:\n",
    "                    parameters = param_out\n",
    "\n",
    "                    if self._verbose:\n",
    "                        print(f\"  No type provided. Will assume '{var_type}'.\")\n",
    "                \n",
    "        return default, distribution, parameters, var_type\n",
    "\n",
    "    def _parse_variable_options(self, text):\n",
    "        default = None\n",
    "        var_type = None\n",
    "\n",
    "        distribution_text = self._extract_contents(text=text, open=r'\\(', close=r'\\)')\n",
    "        if len(distribution_text) > 1:\n",
    "            raise ValueError(f\"Bad distribution options format in: '{text}'. Only one distribution with ( and ) can be defined.\")\n",
    "\n",
    "        options = self._custom_split(text=text, open='(', close=')')\n",
    "        if len(distribution_text) == 1:\n",
    "            if '(' not in options[-1] or ')' not in options[-1]:\n",
    "                raise ValueError(f\"Distribution options with ( and ) must be the last information in: '{options}'.\")\n",
    "            options = options[:-1]\n",
    "            distribution_text = distribution_text[0].strip()\n",
    "        else:\n",
    "            distribution_text = None\n",
    "\n",
    "        if len(options) > 2:\n",
    "            raise ValueError(f\"Bad options format in: '{options}'. Too many options.\")\n",
    "        elif len(options) > 0:\n",
    "            if len(options) > 1 or options[0] != '':\n",
    "                default = options[-1].strip()\n",
    "                if len(options) == 2:\n",
    "                    var_type = options[0].strip()\n",
    "                    default = self._transform_variable(variable=default, variable_type=var_type)\n",
    "                    if default is None:\n",
    "                        raise ValueError(f\"Default value ({options[-1]}) must be of the defined type ({var_type}).\")\n",
    "\n",
    "        distribution, parameters = self._parse_distribution(distribution_text, var_type)\n",
    "\n",
    "        if var_type is None:\n",
    "            default, distribution, parameters, var_type = self._check_variable_type(default, distribution, parameters)\n",
    "        if var_type is None:\n",
    "            raise ValueError(f\"Couldn't find the variable type based on provided data: '{text}'. Possible type(s) for {distribution} are: {', '.join(self._valid_distributions[distribution]['types'])}.\")\n",
    "\n",
    "        return {'active': True, 'distribution': distribution, 'parameters': parameters, 'default': default, 'type': var_type}\n",
    "\n",
    "    def _parse_key(self, text):\n",
    "        key = text.split('[')[0].strip()\n",
    "        if len(key) == 0:\n",
    "            raise ValueError(f\"Undefined variable name in: '{text}'.\")\n",
    "        return key\n",
    "\n",
    "    def _parse_options(self, text):\n",
    "        options = self._extract_contents(text=text, open=r'\\[', close=r'\\]')\n",
    "        if len(options) > 1:\n",
    "            raise ValueError(f\"Bad options format in: '{text}'. Only one list with [ and ] can be defined.\")\n",
    "\n",
    "        if len(options) == 1:\n",
    "            options_dict = self._parse_variable_options(options[0])\n",
    "        else:\n",
    "            options_dict = self._parse_variable_options('')\n",
    "\n",
    "        return options_dict\n",
    "\n",
    "    def _parse_variables(self):\n",
    "        # General pattern: Variable[type, default, (distribution, par1, par2)]\n",
    "        variables = {}\n",
    "        repetition = list()\n",
    "        for text in self.variables_raw:\n",
    "            if self._verbose:\n",
    "                print(f'Command found: {text}')\n",
    "            key = self._parse_key(text)\n",
    "            if key in variables:\n",
    "                if self._verbose and key not in repetition:\n",
    "                    print(f'  key {key} found more than once. Ignoring options in repetitions.')\n",
    "                    repetition.append(key)\n",
    "            else:\n",
    "                options = self._parse_options(text)\n",
    "                variables[key] = options\n",
    "                if self._verbose:\n",
    "                    print(f'  key: {key}')\n",
    "                    print(f'  options: {options}')\n",
    "        return variables\n",
    "\n",
    "    def set_output_file(self, output_file_path):\n",
    "        if output_file_path is None:\n",
    "            self.output_file_path = None\n",
    "        else:\n",
    "            try:\n",
    "                self.output_file_path = Path(output_file_path)\n",
    "            except (ValueError, TypeError, NameError):\n",
    "                self.output_file_path = None\n",
    "                raise ValueError(f\"Invalid file path: {str(output_file_path)}\")\n",
    "\n",
    "    def set_variables_table(self, variables_table_path):\n",
    "        if not Path(variables_table_path).exists():\n",
    "            print(f\"CSV file '{variables_table_path}' not found.\")\n",
    "        else:\n",
    "            try:\n",
    "                df = pd.read_csv(variables_table_path, skipinitialspace=True)\n",
    "                for key in df.columns:\n",
    "                    if key not in self.variables:\n",
    "                        print(f\"Variable '{key}' not found in template. Will ignore data.\")\n",
    "                        continue\n",
    "                    if self.variables[key]['distribution'] != 'table':\n",
    "                        print(f\"Variable '{key}' already has a distribution. Will ignore data.\")\n",
    "                        continue\n",
    "                    self.variables[key]['values'] = list(df[key])\n",
    "            except (ValueError, TypeError, NameError):\n",
    "                print(f'Error reading variables table file: {variables_table_path}')\n",
    "\n",
    "    def _check_generate_experiments(self, n_samples=0):\n",
    "        tables_n_values = list()\n",
    "        for data in self.variables.values():\n",
    "            if data.get('distribution', False) == 'table':\n",
    "                tables_n_values.append(len(data.get('values', [])))\n",
    "\n",
    "        if len(tables_n_values) > 0:\n",
    "            if not min(tables_n_values) == max(tables_n_values):\n",
    "                print(f\"Number of entries in 'table' variables is inconsistent, ranging from {min(tables_n_values)} to {max(tables_n_values)}. Cannot continue.\")\n",
    "                return None         \n",
    "            tables_n_values = tables_n_values[0]\n",
    "            if tables_n_values == 0:\n",
    "                print(\"No values found for 'table' variables. Cannot continue.\")\n",
    "                return None\n",
    "        else:\n",
    "            tables_n_values = n_samples\n",
    "\n",
    "        if n_samples < 1 and tables_n_values > 0:\n",
    "            n_samples = tables_n_values\n",
    "        elif n_samples < 1:\n",
    "            print(f\"Requested sample size ({n_samples}) is smaller than minimum (1). Cannot continue.\")\n",
    "            return None\n",
    "        elif tables_n_values != n_samples:\n",
    "            print(f\"Number of values in 'table' variables ({tables_n_values}) is different from the requested sample size ({n_samples}). Cannot continue.\")\n",
    "            return None\n",
    "        \n",
    "        return n_samples\n",
    "\n",
    "    def _InvCDF(self, probability, data, all_uniform):\n",
    "        if min(probability) < 0:\n",
    "            raise ValueError(\"Probability lower than zero!\")\n",
    "        if max(probability) > 1:\n",
    "            raise ValueError(\"Probability larger than one!\")\n",
    "\n",
    "        distribution = data['distribution']\n",
    "        parameters = data['parameters']\n",
    "        \n",
    "        if distribution == 'constant':\n",
    "            return parameters[0]\n",
    "        \n",
    "        elif distribution == 'categorical':\n",
    "            if all_uniform:\n",
    "                n = len(parameters[0])\n",
    "                p_cum_list = [(i+1) / n for i in range(n)]\n",
    "            else:\n",
    "                p_cum_list = parameters[1]\n",
    "\n",
    "            def cat_prob(x):\n",
    "                for i, p in enumerate(p_cum_list):\n",
    "                    if p >= x:\n",
    "                        return parameters[0][i]\n",
    "                raise ValueError(\"Error in categorical probabilities!\")\n",
    "            vec_cat_prob = np.vectorize(cat_prob)\n",
    "            return vec_cat_prob(probability)\n",
    "\n",
    "        elif distribution == 'uniform' or (distribution == 'triangular' and all_uniform):\n",
    "            loc = parameters[0]\n",
    "            scale = parameters[1] - parameters[0]\n",
    "            if isinstance(loc, int) and isinstance(scale, int):\n",
    "                return np.int32(stats.randint.ppf(probability, low=loc, high=loc+scale+1))\n",
    "            else:\n",
    "                return stats.uniform.ppf(probability, loc=loc, scale=scale)\n",
    "            \n",
    "        elif distribution == 'triangular':\n",
    "            loc = parameters[0]\n",
    "            scale = parameters[1] - parameters[0]\n",
    "            c = (parameters[2] - parameters[0]) / scale\n",
    "            return stats.triang.ppf(probability, c, loc=loc, scale=scale)\n",
    "            \n",
    "        elif distribution == 'normal':\n",
    "            mean = parameters[0]\n",
    "            std_dev = parameters[1]\n",
    "            if all_uniform:\n",
    "                loc = mean - std_dev * self._normal_limits_as_uniform\n",
    "                scale = 2 * std_dev * self._normal_limits_as_uniform\n",
    "                return stats.uniform.ppf(probability, loc=loc, scale=scale)\n",
    "                # return a + probability * (b - a)\n",
    "            else:\n",
    "                return stats.norm.ppf(probability, loc=mean, scale=std_dev)\n",
    "        \n",
    "        elif distribution == 'truncnormal':\n",
    "            mean = parameters[0]\n",
    "            std_dev = parameters[1]\n",
    "            a = parameters[2]\n",
    "            b = parameters[3]\n",
    "            if all_uniform:\n",
    "                return stats.uniform.ppf(probability, loc=a, scale=b)\n",
    "                # return a + probability * (b - a)\n",
    "            else:\n",
    "                return stats.truncnorm.ppf(probability, (a - mean) / std_dev, (b - mean) / std_dev, loc=mean, scale=std_dev)\n",
    "        \n",
    "        elif distribution == 'lognormal':\n",
    "            mean = parameters[0]\n",
    "            std_dev = parameters[1]\n",
    "            if all_uniform:\n",
    "                loc = mean - std_dev * self._normal_limits_as_uniform\n",
    "                scale = 2 * std_dev * self._normal_limits_as_uniform\n",
    "                return stats.uniform.ppf(probability, loc=loc, scale=scale)\n",
    "            else:\n",
    "                return stats.lognorm.ppf(probability, s=std_dev, scale=np.exp(mean))\n",
    "        \n",
    "        raise ValueError(f\"Unknown distribution: {distribution}.\")\n",
    "        \n",
    "    def set_variable_active(self, variable, active=True):\n",
    "        if variable not in self.variables:\n",
    "            raise ValueError(f\"Unknown variable: {variable}.\")\n",
    "        if not active and self.variables[variable]['default'] is None:\n",
    "            raise ValueError(f\"Cannot deactivate a variable without a default value: {variable}.\")\n",
    "        self.variables[variable]['default'] = active\n",
    "\n",
    "    def generate_experiments(self, n_samples=0, all_uniform=None):\n",
    "        if self._verbose:\n",
    "            print('Cheking parameters')\n",
    "        n_samples = self._check_generate_experiments(n_samples=n_samples)\n",
    "        if n_samples < 1:\n",
    "            self.experiments_table = None\n",
    "            return\n",
    "        \n",
    "        if all_uniform is None:\n",
    "            all_uniform = self._all_uniform\n",
    "\n",
    "        if self._verbose:\n",
    "            print('Building experiments')\n",
    "        samples = lhs(len(self.variables), samples=n_samples, criterion='maximin', iterations=min(100, max(1, int(1e6*np.power(10, -2.)))))\n",
    "\n",
    "        if self._verbose:\n",
    "            print('Calculating inverse CDF')\n",
    "        df = pd.DataFrame()\n",
    "        for column_index, var in enumerate(self.variables):\n",
    "            data = self.variables[var]\n",
    "            if self._verbose:\n",
    "                print(f'   {var}: {data['distribution']}')\n",
    "            if not data['active']:\n",
    "                df[var] = [data['default']] * n_samples\n",
    "            elif data['distribution'] == 'table':\n",
    "                df[var] = data['values']\n",
    "            else:\n",
    "                df[var] = self._InvCDF(samples[:, column_index], data, all_uniform)\n",
    "        self.experiments_table = df\n",
    "        \n",
    "    def _create_new_file(self, output_file_path, values, text):\n",
    "        new_text = text\n",
    "        for var in self.variables:\n",
    "            pattern = f'<\\\\\\\\var>{var}[^<]+<var>'\n",
    "            value = self._transform_variable(values[var], self.variables[var]['type'])\n",
    "            new_text = re.sub(pattern, str(value), new_text)\n",
    "        with open(output_file_path, 'w') as f:\n",
    "            f.write(new_text)\n",
    "\n",
    "    def create_new_files(self, output_file_path=None):\n",
    "        if output_file_path is not None:\n",
    "            self.set_output_file(output_file_path)\n",
    "        if self.output_file_path is None:\n",
    "            print('Output file not defined. Cannot continue.')\n",
    "            return\n",
    "        if self.experiments_table is None:\n",
    "            self.generate_experiments()\n",
    "            if self.experiments_table is None:\n",
    "                print('Experiments table could not be created. Cannot continue.')\n",
    "                return\n",
    "        \n",
    "        with open(self.template_path, 'r') as f:\n",
    "            text = f.read()\n",
    "        \n",
    "        for index, row in self.experiments_table.iterrows():\n",
    "            new_file_path = self.output_file_path.with_name(f\"{self.output_file_path.stem}_{index}{self.output_file_path.suffix}\")\n",
    "            self._create_new_file(new_file_path, row.to_dict(), text)\n",
    "\n",
    "# template = TemplateProcessor(template_path=r'..\\template\\no_errors_distributions.dat',\n",
    "                            #  verbose=True)\n",
    "# template.generate_experiments(1000)\n",
    "# print(template.experiments_table)"
   ]
  },
  {
   "cell_type": "markdown",
   "metadata": {},
   "source": [
    "# Tests"
   ]
  },
  {
   "cell_type": "markdown",
   "metadata": {},
   "source": [
    "### Common Functions"
   ]
  },
  {
   "cell_type": "code",
   "execution_count": 65,
   "metadata": {},
   "outputs": [],
   "source": [
    "import tempfile\n",
    "\n",
    "def process_temporary_file(text, verbose=False, variables_df=None, output_file_path=None, all_uniform=False, n_samples=0):\n",
    "    try:\n",
    "        with tempfile.NamedTemporaryFile(mode='w', delete=False) as temp_file:\n",
    "            temp_file.write(text)\n",
    "            temp_file_path = Path(temp_file.name)\n",
    "\n",
    "        temp_csv_file_path = None\n",
    "        if variables_df is not None:\n",
    "            with tempfile.NamedTemporaryFile(suffix='.csv', delete=False) as temp_csv_file:\n",
    "                variables_df.to_csv(temp_csv_file.name, index=False)\n",
    "                temp_csv_file_path = Path(temp_csv_file.name)\n",
    "        \n",
    "        return TemplateProcessor(template_path=temp_file_path, verbose=verbose, variables_table_path=temp_csv_file_path, output_file_path=output_file_path, all_uniform=all_uniform, n_samples=n_samples)       \n",
    "\n",
    "    finally:\n",
    "        temp_file_path.unlink()\n",
    "        if variables_df is not None:\n",
    "            temp_csv_file_path.unlink()"
   ]
  },
  {
   "cell_type": "code",
   "execution_count": 66,
   "metadata": {},
   "outputs": [],
   "source": [
    "import matplotlib.pyplot as plt\n",
    "\n",
    "def plot_histogram(data, bins=30, title='Histogram of Data'):\n",
    "    plt.figure(figsize=(4, 2))\n",
    "    plt.hist(data, bins=bins, density=True, alpha=0.75)\n",
    "    plt.title(title)\n",
    "    plt.xlabel('Value')\n",
    "    plt.ylabel('Frequency')\n",
    "    plt.grid(True)\n",
    "    plt.show()"
   ]
  },
  {
   "cell_type": "markdown",
   "metadata": {},
   "source": [
    "## No Errors Test"
   ]
  },
  {
   "cell_type": "code",
   "execution_count": 67,
   "metadata": {},
   "outputs": [],
   "source": [
    "text = [\n",
    "    r\"** Some comments\",\n",
    "    r\"No variables to read\",\n",
    "    r\"The first variable is <\\var>var1<var>\",\n",
    "    r\"Second is <\\var>var2[12]<var> is ok\",\n",
    "    r\"<\\var>var3[int,42]<var> is an integer\",\n",
    "    r\"Now a normal distribution <\\var>var4[float,0.5,(normal,0, 2.5)]<var> with mean 0 and variance 2.5.\",\n",
    "    r\"Another a normal distribution <\\var>var5[0.5,(normal,0, 2.5)]<var> with mean 0 and variance 2.5.\",\n",
    "    r\"just a line\",\n",
    "    r\"\",\n",
    "    r\"Two variables: <\\var>var6[float,7.,(categorical,{1,3,7,-12},{0.2,0.15,0.25,0.400})]<var>\",\n",
    "    r\"\",\n",
    "    r\"Distribution with explicit type: <\\var>var7[(normal,0, 2.5)]<var>\",\n",
    "    r\"Distribution with explicit type: <\\var>var8[(uniform,0, 12)]<var>\",\n",
    "    r\"Distribution with explicit type: <\\var>var9[(uniform,0., 12.)]<var>\",\n",
    "    r\"Distribution with explicit type: <\\var>var10[(constant,0)]<var>\",\n",
    "    r\"\",\n",
    "    r\"The last line with no variables.\"\n",
    "    ]\n",
    "\n",
    "template = process_temporary_file(text='\\n'.join(text), verbose=False)"
   ]
  },
  {
   "cell_type": "code",
   "execution_count": 68,
   "metadata": {},
   "outputs": [
    {
     "data": {
      "text/plain": [
       "{'var1': {'active': True,\n",
       "  'distribution': 'table',\n",
       "  'parameters': [],\n",
       "  'default': None,\n",
       "  'type': 'str'},\n",
       " 'var2': {'active': True,\n",
       "  'distribution': 'table',\n",
       "  'parameters': [],\n",
       "  'default': '12',\n",
       "  'type': 'str'},\n",
       " 'var3': {'active': True,\n",
       "  'distribution': 'table',\n",
       "  'parameters': [],\n",
       "  'default': 42,\n",
       "  'type': 'int'},\n",
       " 'var4': {'active': True,\n",
       "  'distribution': 'normal',\n",
       "  'parameters': [0.0, 2.5],\n",
       "  'default': 0.5,\n",
       "  'type': 'float'},\n",
       " 'var5': {'active': True,\n",
       "  'distribution': 'normal',\n",
       "  'parameters': [0.0, 2.5],\n",
       "  'default': 0.5,\n",
       "  'type': 'float'},\n",
       " 'var6': {'active': True,\n",
       "  'distribution': 'categorical',\n",
       "  'parameters': [[1.0, 3.0, 7.0, -12.0], [0.2, 0.35, 0.6, 1.0]],\n",
       "  'default': 7.0,\n",
       "  'type': 'float'},\n",
       " 'var7': {'active': True,\n",
       "  'distribution': 'normal',\n",
       "  'parameters': [0.0, 2.5],\n",
       "  'default': None,\n",
       "  'type': 'float'},\n",
       " 'var8': {'active': True,\n",
       "  'distribution': 'uniform',\n",
       "  'parameters': [0, 12],\n",
       "  'default': None,\n",
       "  'type': 'int'},\n",
       " 'var9': {'active': True,\n",
       "  'distribution': 'uniform',\n",
       "  'parameters': [0.0, 12.0],\n",
       "  'default': None,\n",
       "  'type': 'float'},\n",
       " 'var10': {'active': True,\n",
       "  'distribution': 'constant',\n",
       "  'parameters': [0],\n",
       "  'default': None,\n",
       "  'type': 'int'}}"
      ]
     },
     "execution_count": 68,
     "metadata": {},
     "output_type": "execute_result"
    }
   ],
   "source": [
    "template.variables"
   ]
  },
  {
   "cell_type": "markdown",
   "metadata": {},
   "source": [
    "## Import Table"
   ]
  },
  {
   "cell_type": "code",
   "execution_count": 69,
   "metadata": {},
   "outputs": [
    {
     "name": "stdout",
     "output_type": "stream",
     "text": [
      "var1: [1, 2, 3, 4]\n",
      "var2: [4, 3, 2, 1]\n",
      "var3: ['a', 'b', 'c', 'd']\n",
      "var4: [10, -20, 300, 404]\n"
     ]
    }
   ],
   "source": [
    "text = [\n",
    "    r\"Variable #1: <\\var>var1[17,(table)]<var>.\",\n",
    "    r\"Variable #2: <\\var>var2<var>.\",\n",
    "    r\"Variable #3+4: <\\var>var3<var> + <\\var>var4<var>.\",\n",
    "    r\"Variable #1: <\\var>var1<var> & <\\var>var1<var>.\"\n",
    "    ]\n",
    "\n",
    "df = pd.DataFrame()\n",
    "df['var1'] = [1, 2, 3, 4]\n",
    "df['var2'] = [4, 3, 2, 1]\n",
    "df['var3'] = ['a', 'b', 'c', 'd']\n",
    "df['var4'] = [10, -20, 300, 404]\n",
    "\n",
    "template = process_temporary_file(text='\\n'.join(text), verbose=False, variables_df=df)\n",
    "for k in template.variables:\n",
    "    print(f\"{k}: {str(template.variables[k]['values'])}\")\n"
   ]
  },
  {
   "cell_type": "markdown",
   "metadata": {},
   "source": [
    "## Distributions"
   ]
  },
  {
   "cell_type": "code",
   "execution_count": 73,
   "metadata": {},
   "outputs": [
    {
     "name": "stdout",
     "output_type": "stream",
     "text": [
      "uniform 1-10\n"
     ]
    },
    {
     "name": "stdout",
     "output_type": "stream",
     "text": [
      "  mean: 5.5\n",
      "  std_dev: 2.8722813232690143\n",
      "  min: 1\n",
      "  max: 10\n",
      "\n"
     ]
    },
    {
     "data": {
      "image/png": "[encoded data removed]",
      "text/plain": [
       "<Figure size 400x200 with 1 Axes>"
      ]
     },
     "metadata": {},
     "output_type": "display_data"
    },
    {
     "name": "stdout",
     "output_type": "stream",
     "text": [
      "uniform 0-1\n",
      "  mean: 0.4999782460279637\n",
      "  std_dev: 0.2887939567482262\n",
      "  min: 0.00158163524659806\n",
      "  max: 0.9953750129574362\n",
      "\n"
     ]
    },
    {
     "data": {
      "image/png": "[encoded data removed]",
      "text/plain": [
       "<Figure size 400x200 with 1 Axes>"
      ]
     },
     "metadata": {},
     "output_type": "display_data"
    },
    {
     "name": "stdout",
     "output_type": "stream",
     "text": [
      "normal 0, 1\n",
      "  mean: -0.001107582657751558\n",
      "  std_dev: 1.000556066139512\n",
      "  min: -2.9452418638142217\n",
      "  max: 2.8466842181608154\n",
      "\n"
     ]
    },
    {
     "data": {
      "image/png": "[encoded data removed]",
      "text/plain": [
       "<Figure size 400x200 with 1 Axes>"
      ]
     },
     "metadata": {},
     "output_type": "display_data"
    },
    {
     "name": "stdout",
     "output_type": "stream",
     "text": [
      "normal 10, 2\n",
      "  mean: 9.999002129696475\n",
      "  std_dev: 2.0052715901462164\n",
      "  min: 3.950620536239337\n",
      "  max: 15.858833224893718\n",
      "\n"
     ]
    },
    {
     "data": {
      "image/png": "[encoded data removed]",
      "text/plain": [
       "<Figure size 400x200 with 1 Axes>"
      ]
     },
     "metadata": {},
     "output_type": "display_data"
    },
    {
     "name": "stdout",
     "output_type": "stream",
     "text": [
      "truncnormal 0, 1, +-2\n",
      "  mean: 0.0003518591035527541\n",
      "  std_dev: 0.8803393532162088\n",
      "  min: -1.9738203928627556\n",
      "  max: 1.981333378604957\n",
      "\n"
     ]
    },
    {
     "data": {
      "image/png": "[encoded data removed]",
      "text/plain": [
       "<Figure size 400x200 with 1 Axes>"
      ]
     },
     "metadata": {},
     "output_type": "display_data"
    },
    {
     "name": "stdout",
     "output_type": "stream",
     "text": [
      "lognormal 0, 1\n",
      "  mean: 1.6176515678597376\n",
      "  std_dev: 1.879840097640591\n",
      "  min: 0.03213489658658605\n",
      "  max: 13.895921889061194\n",
      "\n"
     ]
    },
    {
     "data": {
      "image/png": "[encoded data removed]",
      "text/plain": [
       "<Figure size 400x200 with 1 Axes>"
      ]
     },
     "metadata": {},
     "output_type": "display_data"
    },
    {
     "name": "stdout",
     "output_type": "stream",
     "text": [
      "triangular 0,3,1\n",
      "  mean: 1.332937761309949\n",
      "  std_dev: 0.6230987673707006\n",
      "  min: 0.05872381000579945\n",
      "  max: 2.8345018618223947\n",
      "\n"
     ]
    },
    {
     "data": {
      "image/png": "[encoded data removed]",
      "text/plain": [
       "<Figure size 400x200 with 1 Axes>"
      ]
     },
     "metadata": {},
     "output_type": "display_data"
    },
    {
     "name": "stdout",
     "output_type": "stream",
     "text": [
      "constant 2.0\n",
      "  mean: nan\n",
      "  std_dev: nan\n",
      "  min: nan\n",
      "  max: nan\n",
      "\n"
     ]
    },
    {
     "name": "stderr",
     "output_type": "stream",
     "text": [
      "c:\\Users\\tiago.LENOVO-I7\\Unicamp\\PHD\\simpython\\.venv\\Lib\\site-packages\\numpy\\lib\\histograms.py:885: RuntimeWarning: invalid value encountered in divide\n",
      "  return n/db/n.sum(), bin_edges\n"
     ]
    },
    {
     "data": {
      "image/png": "[encoded data removed]",
      "text/plain": [
       "<Figure size 400x200 with 1 Axes>"
      ]
     },
     "metadata": {},
     "output_type": "display_data"
    },
    {
     "name": "stdout",
     "output_type": "stream",
     "text": [
      "categorical 1/1/2/6\n",
      "  mean: 3.3\n",
      "  std_dev: 1.004987562112089\n",
      "  min: 1\n",
      "  max: 4\n",
      "\n"
     ]
    },
    {
     "data": {
      "image/png": "[encoded data removed]",
      "text/plain": [
       "<Figure size 400x200 with 1 Axes>"
      ]
     },
     "metadata": {},
     "output_type": "display_data"
    }
   ],
   "source": [
    "distributions_list = {\n",
    "    'uniform 1-10':r'<\\var>var[int,1,(uniform,1,10)]<var>',\n",
    "    'uniform 0-1':r'<\\var>var[float,1,(uniform,0,1)]<var>',\n",
    "    'normal 0, 1':r'<\\var>var[float,1,(normal,0,1)]<var>',\n",
    "    'normal 10, 2':r'<\\var>var[float,1,(normal,10,2)]<var>',\n",
    "    'truncnormal 0, 1, +-2':r'<\\var>var[float,1,(truncnormal,0,1,-2, 2)]<var>',\n",
    "    'lognormal 0, 1':r'<\\var>var[float,1,(lognormal,0,1)]<var>',\n",
    "    'triangular 0,3,1':r'<\\var>var[float,1,(triangular,0,3,1)]<var>',\n",
    "    'constant 2.0':r'<\\var>var[float,1,(constant,2)]<var>',\n",
    "    'categorical 1/1/2/6':r'<\\var>var[int,1,(categorical,{1,2,3,4},{0.1,0.1,0.2,0.6})]<var>',\n",
    "}\n",
    "\n",
    "for k,v in distributions_list.items():\n",
    "    print(f'{k}')\n",
    "    template = process_temporary_file(text=v, verbose=False)\n",
    "    template.generate_experiments(200)\n",
    "    data = template.experiments_table['var']\n",
    "    print(f'  mean: {np.mean(data)}')\n",
    "    print(f'  std_dev: {np.std(data)}')\n",
    "    print(f'  min: {np.min(data)}')\n",
    "    print(f'  max: {np.max(data)}')\n",
    "    print()\n",
    "    plot_histogram(data=data, title=k)"
   ]
  },
  {
   "cell_type": "markdown",
   "metadata": {},
   "source": [
    "## Export Files"
   ]
  },
  {
   "cell_type": "code",
   "execution_count": 76,
   "metadata": {},
   "outputs": [
    {
     "name": "stdout",
     "output_type": "stream",
     "text": [
      "   var1      var2      var3       var4      var5      var6      var7  var8A  \\\n",
      "0     6  0.393158  0.644319   8.010650 -1.375124  1.270232  1.245322      2   \n",
      "1     9  0.773515 -0.999138   9.571085 -0.045828  0.385900  0.802849      2   \n",
      "2     1  0.138834 -0.042397  12.087205  0.365543  0.613259  0.596836      2   \n",
      "3     3  0.963906 -0.733647   8.913417  1.300181  1.493043  2.079656      2   \n",
      "4     4  0.648544 -1.978367   9.342885 -0.702660  0.093822  1.869142      2   \n",
      "\n",
      "   var8B var8C  var9A  var9B var9C  \n",
      "0    2.0     2      3    4.0     4  \n",
      "1    2.0     2      4    3.0     3  \n",
      "2    2.0     2      4    4.0     4  \n",
      "3    2.0     2      1    4.0     1  \n",
      "4    2.0     2      2    4.0     3  \n",
      "\n",
      "var1: <class 'numpy.int32'>\n",
      "var2: <class 'numpy.float64'>\n",
      "var3: <class 'numpy.float64'>\n",
      "var4: <class 'numpy.float64'>\n",
      "var5: <class 'numpy.float64'>\n",
      "var6: <class 'numpy.float64'>\n",
      "var7: <class 'numpy.float64'>\n",
      "var8A: <class 'numpy.int64'>\n",
      "var8B: <class 'numpy.float64'>\n",
      "var8C: <class 'str'>\n",
      "var9A: <class 'numpy.int32'>\n",
      "var9B: <class 'numpy.float64'>\n",
      "var9C: <class 'str'>\n"
     ]
    }
   ],
   "source": [
    "text = [\n",
    "    r'uniform int         = \"<\\var>var1[int,1,(uniform,1,10)]<var>\"',\n",
    "    r'uniform float       = \"<\\var>var2[float,1,(uniform,0,1)]<var>\"',\n",
    "    r'normal 0-1          = \"<\\var>var3[float,1,(normal,0,1)]<var>\"',\n",
    "    r'normal 10-2         = \"<\\var>var4[float,1,(normal,10,2)]<var>\"',\n",
    "    r'truncnormal 0-1 +-2 = \"<\\var>var5[float,1,(truncnormal,0,1,-2, 2)]<var>\"',\n",
    "    r'lognormal 0-1       = \"<\\var>var6[float,1,(lognormal,0,1)]<var>\"',\n",
    "    r'triangular 0-3-1    = \"<\\var>var7[float,1,(triangular,0,3,1)]<var>\"',\n",
    "    r'constant int        = \"<\\var>var8A[int,1,(constant,2)]<var>\"',\n",
    "    r'constant float      = \"<\\var>var8B[float,1,(constant,2)]<var>\"',\n",
    "    r'constant str        = \"<\\var>var8C[str,1,(constant,2)]<var>\"',\n",
    "    r'categorical int     = \"<\\var>var9A[int,1,(categorical,{1,2,3,4},{0.1,0.1,0.2,0.6})]<var>\"',\n",
    "    r'categorical float   = \"<\\var>var9B[float,1,(categorical,{1,2,3,4},{0.1,0.1,0.2,0.6})]<var>\"',\n",
    "    r'categorical str     = \"<\\var>var9C[str,1,(categorical,{1,2,3,4},{0.1,0.1,0.2,0.6})]<var>\"',\n",
    "]\n",
    "\n",
    "template = process_temporary_file(text='\\n'.join(text), verbose=False, output_file_path=r'.\\temp\\test.dat', all_uniform=False, n_samples=10)\n",
    "print(template.experiments_table.head())\n",
    "print()\n",
    "for k in template.experiments_table:\n",
    "    print(f'{k}: {type(template.experiments_table[k][0])}')"
   ]
  },
  {
   "cell_type": "markdown",
   "metadata": {},
   "source": [
    "## Error Catching Test"
   ]
  },
  {
   "cell_type": "code",
   "execution_count": 78,
   "metadata": {},
   "outputs": [],
   "source": [
    "def test_function(func):\n",
    "    def wrapper(*args, **kwargs):\n",
    "        try:\n",
    "            result = func(*args, **kwargs)\n",
    "            return result\n",
    "        except Exception as e:\n",
    "            return f\"Error: {e}\"\n",
    "    return wrapper\n",
    "\n",
    "@test_function\n",
    "def test_parse(text):\n",
    "    return process_temporary_file(text)"
   ]
  },
  {
   "cell_type": "code",
   "execution_count": 79,
   "metadata": {},
   "outputs": [
    {
     "name": "stdout",
     "output_type": "stream",
     "text": [
      "no error: <\\var>var[1.5, (normal,0, 2.5)]<var>\n",
      "    {'var': {'active': True, 'distribution': 'normal', 'parameters': [0.0, 2.5], 'default': 1.5, 'type': 'float'}}\n",
      "\n",
      "bogus text 1: <\\var>var[1.5, (normal,0,2.)ABC]<var>\n",
      "    {'var': {'active': True, 'distribution': 'normal', 'parameters': [0.0, 2.0], 'default': 1.5, 'type': 'float'}}\n",
      "\n",
      "bogus text 2: <\\var>var[1.5, (normal,0,2.), ABC]<var>\n",
      "    Error: Distribution options with ( and ) must be the last information in: '['1.5', '(normal,0,2.)', 'ABC']'.\n",
      "\n",
      "bogus text 3: <\\var>var[1.5, (normal,0,2.)]ABC<var>\n",
      "    {'var': {'active': True, 'distribution': 'normal', 'parameters': [0.0, 2.0], 'default': 1.5, 'type': 'float'}}\n",
      "\n",
      "bogus text 4: <\\var>var[1.5, (normal,0,2.)], ABC<var>\n",
      "    {'var': {'active': True, 'distribution': 'normal', 'parameters': [0.0, 2.0], 'default': 1.5, 'type': 'float'}}\n",
      "\n",
      "too few parameters: <\\var>var[(normal,0)]<var>\n",
      "    Error: Invalid number of parameters for distribution 'normal'. Expected 2, found 1.\n",
      "\n",
      "too many parameters: <\\var>var[(normal,0, 2.5, 7)]<var>\n",
      "    Error: Invalid number of parameters for distribution 'normal'. Expected 2, found 3.\n",
      "\n",
      "invalid distribution: <\\var>var[(nomal,0, 2.5)]<var>\n",
      "    Error: Invalid distribution: 'nomal'.\n",
      "\n",
      "missing comma 1: <\\var>var[float 1.5, (normal,0, 2.5)]<var>\n",
      "    Error: Couldn't find the variable type based on provided data: 'float 1.5, (normal,0, 2.5)'. Possible type(s) for normal are: float.\n",
      "\n",
      "missing comma 2: <\\var>var[float, 1.5 (normal,0, 2.5)]<var>\n",
      "    Error: Couldn't find the variable type based on provided data: 'float, 1.5 (normal,0, 2.5)'. Possible type(s) for normal are: float.\n",
      "\n",
      "missing comma 3: <\\var>var[float, 1.5, (normal 0, 2.5)]<var>\n",
      "    Error: Invalid distribution: 'normal 0'.\n",
      "\n",
      "missing comma 4: <\\var>var[float, 1.5, (normal,0 2.5)]<var>\n",
      "    Error: Invalid number of parameters for distribution 'normal'. Expected 2, found 1.\n",
      "\n",
      "missing comma 5: <\\var>var[(normal,0, 2.5)]<var>\n",
      "    {'var': {'active': True, 'distribution': 'normal', 'parameters': [0.0, 2.5], 'default': None, 'type': 'float'}}\n",
      "\n",
      "missing comma 6: <\\var>var[(normal,0, 2.5)]<var>\n",
      "    {'var': {'active': True, 'distribution': 'normal', 'parameters': [0.0, 2.5], 'default': None, 'type': 'float'}}\n",
      "\n",
      "type inconsistency: <\\var>var[str, 1.5, (normal,0, 2.5)]<var>\n",
      "    Error: Invalid type (str) for distribution 'normal'. Valid option(s): float.\n",
      "\n",
      "unclosed var: <\\var>var[1.5, (normal,0, 2.5)]var>\n",
      "    Error: Unclosed <\\var> <var> at line 1.\n",
      "\n"
     ]
    }
   ],
   "source": [
    "error_list = {\n",
    "    'no error': r'<\\var>var[1.5, (normal,0, 2.5)]<var>',\n",
    "    'bogus text 1': r'<\\var>var[1.5, (normal,0,2.)ABC]<var>',\n",
    "    'bogus text 2': r'<\\var>var[1.5, (normal,0,2.), ABC]<var>',\n",
    "    'bogus text 3': r'<\\var>var[1.5, (normal,0,2.)]ABC<var>',\n",
    "    'bogus text 4': r'<\\var>var[1.5, (normal,0,2.)], ABC<var>',\n",
    "    'too few parameters': r'<\\var>var[(normal,0)]<var>',\n",
    "    'too many parameters': r'<\\var>var[(normal,0, 2.5, 7)]<var>',\n",
    "    'invalid distribution': r'<\\var>var[(nomal,0, 2.5)]<var>',\n",
    "    'missing comma 1': r'<\\var>var[float 1.5, (normal,0, 2.5)]<var>',\n",
    "    'missing comma 2': r'<\\var>var[float, 1.5 (normal,0, 2.5)]<var>',\n",
    "    'missing comma 3': r'<\\var>var[float, 1.5, (normal 0, 2.5)]<var>',\n",
    "    'missing comma 4': r'<\\var>var[float, 1.5, (normal,0 2.5)]<var>',\n",
    "    'missing comma 5': r'<\\var>var[(normal,0, 2.5)]<var>',\n",
    "    'missing comma 6': r'<\\var>var[(normal,0, 2.5)]<var>',\n",
    "    'type inconsistency': r'<\\var>var[str, 1.5, (normal,0, 2.5)]<var>',\n",
    "    'unclosed var': r'<\\var>var[1.5, (normal,0, 2.5)]var>',\n",
    "}\n",
    "\n",
    "for k,v in error_list.items():\n",
    "    print(f'{k}: {v}')\n",
    "    print('    '+str(test_parse(v)))\n",
    "    print()"
   ]
  },
  {
   "cell_type": "code",
   "execution_count": 80,
   "metadata": {},
   "outputs": [],
   "source": [
    "import numpy as np\n",
    "import matplotlib.pyplot as plt\n",
    "import time"
   ]
  },
  {
   "cell_type": "code",
   "execution_count": 98,
   "metadata": {},
   "outputs": [
    {
     "data": {
      "text/plain": [
       "156.25"
      ]
     },
     "execution_count": 98,
     "metadata": {},
     "output_type": "execute_result"
    }
   ],
   "source": [
    "1e6*np.power(80., -2.)"
   ]
  },
  {
   "cell_type": "code",
   "execution_count": 103,
   "metadata": {},
   "outputs": [
    {
     "name": "stdout",
     "output_type": "stream",
     "text": [
      "[100, 100, 100, 100, 100, 25, 4, 1, 1]\n"
     ]
    }
   ],
   "source": [
    "samples = [1, 10, 30, 50, 100, 200, 500, 1000, 10000]\n",
    "iterations_ = [min(100, max(1, int(1e6* s**(-2.)))) for s in samples]\n",
    "print(iterations_)"
   ]
  },
  {
   "cell_type": "code",
   "execution_count": 93,
   "metadata": {},
   "outputs": [
    {
     "name": "stdout",
     "output_type": "stream",
     "text": [
      "Iterations=3, samples=10, time = 0.0016644795735677083\n",
      "Iterations=3, samples=16, time = 0.0004849433898925781\n",
      "Iterations=3, samples=27, time = 0.004779418309529622\n",
      "Iterations=3, samples=46, time = 0.009102582931518555\n",
      "Iterations=3, samples=77, time = 0.02660997708638509\n",
      "Iterations=3, samples=129, time = 0.043185154596964516\n",
      "Iterations=3, samples=215, time = 0.12392775217692058\n",
      "Iterations=3, samples=359, time = 0.2731184164683024\n",
      "Iterations=3, samples=599, time = 0.8468490441640218\n",
      "Iterations=3, samples=1000, time = 2.1231815814971924\n"
     ]
    },
    {
     "data": {
      "image/png": "[encoded data removed]",
      "text/plain": [
       "<Figure size 640x480 with 1 Axes>"
      ]
     },
     "metadata": {},
     "output_type": "display_data"
    }
   ],
   "source": [
    "iterations = 3\n",
    "runtime_values = np.zeros_like(y_values)\n",
    "for j in range(len(y_values)):\n",
    "        start_time = time.time()\n",
    "        samples = lhs(20, samples=int(10**y_values[j]), criterion='maximin', iterations=iterations)\n",
    "        end_time = time.time()\n",
    "        tt = (end_time - start_time) / iterations\n",
    "        print(f'Iterations={iterations}, samples={int(10**y_values[j])}, time = {tt}')\n",
    "        runtime_values[j] = tt\n",
    "\n",
    "# Plot contour map\n",
    "plt.plot(y_values, runtime_values)\n",
    "plt.xlabel('Parameter X')\n",
    "plt.ylabel('Runtime (seconds)')\n",
    "plt.title('Runtime vs Parameter X')\n",
    "plt.grid(True)\n",
    "plt.show()"
   ]
  },
  {
   "cell_type": "code",
   "execution_count": 95,
   "metadata": {},
   "outputs": [
    {
     "name": "stdout",
     "output_type": "stream",
     "text": [
      "0.0016644795735677083\n",
      "0.0004849433898925781\n",
      "0.004779418309529622\n",
      "0.009102582931518555\n",
      "0.02660997708638509\n",
      "0.043185154596964516\n",
      "0.12392775217692058\n",
      "0.2731184164683024\n",
      "0.8468490441640218\n",
      "2.1231815814971924\n"
     ]
    }
   ],
   "source": [
    "for p in runtime_values:\n",
    "    print(p)"
   ]
  },
  {
   "cell_type": "code",
   "execution_count": null,
   "metadata": {},
   "outputs": [
    {
     "data": {
      "text/plain": [
       "array([ 10.,  20.,  30.,  40.,  50.,  60.,  70.,  80.,  90., 100.])"
      ]
     },
     "execution_count": 52,
     "metadata": {},
     "output_type": "execute_result"
    }
   ],
   "source": [
    "x_values = np.linspace(10, 100, 10)\n",
    "y_values = np.linspace(2, 3, 2)\n",
    "X, Y = np.meshgrid(x_values, y_values)\n",
    "x_values"
   ]
  },
  {
   "cell_type": "code",
   "execution_count": null,
   "metadata": {},
   "outputs": [
    {
     "name": "stdout",
     "output_type": "stream",
     "text": [
      "Iterations=10, samples=100, time = 0.038462376594543456\n",
      "Iterations=10, samples=1000, time = 2.3481754302978515\n",
      "Iterations=20, samples=100, time = 0.023529088497161864\n",
      "Iterations=20, samples=1000, time = 2.1654155254364014\n",
      "Iterations=30, samples=100, time = 0.022002108891805015\n",
      "Iterations=30, samples=1000, time = 2.229159140586853\n",
      "Iterations=40, samples=100, time = 0.02432653307914734\n",
      "Iterations=40, samples=1000, time = 2.3763138473033907\n",
      "Iterations=50, samples=100, time = 0.02196399211883545\n",
      "Iterations=50, samples=1000, time = 2.4172652530670167\n",
      "Iterations=60, samples=100, time = 0.026031891504923504\n"
     ]
    },
    {
     "ename": "KeyboardInterrupt",
     "evalue": "",
     "output_type": "error",
     "traceback": [
      "\u001b[1;31m---------------------------------------------------------------------------\u001b[0m",
      "\u001b[1;31mKeyboardInterrupt\u001b[0m                         Traceback (most recent call last)",
      "Cell \u001b[1;32mIn[53], line 5\u001b[0m\n\u001b[0;32m      3\u001b[0m \u001b[38;5;28;01mfor\u001b[39;00m j \u001b[38;5;129;01min\u001b[39;00m \u001b[38;5;28mrange\u001b[39m(\u001b[38;5;28mlen\u001b[39m(y_values)):\n\u001b[0;32m      4\u001b[0m     start_time \u001b[38;5;241m=\u001b[39m time\u001b[38;5;241m.\u001b[39mtime()\n\u001b[1;32m----> 5\u001b[0m     samples \u001b[38;5;241m=\u001b[39m \u001b[43mlhs\u001b[49m\u001b[43m(\u001b[49m\u001b[38;5;241;43m20\u001b[39;49m\u001b[43m,\u001b[49m\u001b[43m \u001b[49m\u001b[43msamples\u001b[49m\u001b[38;5;241;43m=\u001b[39;49m\u001b[38;5;28;43mint\u001b[39;49m\u001b[43m(\u001b[49m\u001b[38;5;241;43m10\u001b[39;49m\u001b[38;5;241;43m*\u001b[39;49m\u001b[38;5;241;43m*\u001b[39;49m\u001b[43my_values\u001b[49m\u001b[43m[\u001b[49m\u001b[43mj\u001b[49m\u001b[43m]\u001b[49m\u001b[43m)\u001b[49m\u001b[43m,\u001b[49m\u001b[43m \u001b[49m\u001b[43mcriterion\u001b[49m\u001b[38;5;241;43m=\u001b[39;49m\u001b[38;5;124;43m'\u001b[39;49m\u001b[38;5;124;43mmaximin\u001b[39;49m\u001b[38;5;124;43m'\u001b[39;49m\u001b[43m,\u001b[49m\u001b[43m \u001b[49m\u001b[43miterations\u001b[49m\u001b[38;5;241;43m=\u001b[39;49m\u001b[38;5;28;43mint\u001b[39;49m\u001b[43m(\u001b[49m\u001b[43mx_values\u001b[49m\u001b[43m[\u001b[49m\u001b[43mi\u001b[49m\u001b[43m]\u001b[49m\u001b[43m)\u001b[49m\u001b[43m)\u001b[49m\n\u001b[0;32m      6\u001b[0m     \u001b[38;5;66;03m# samples = lhs(int(x_values[i]+0.1), samples=int(10**y_values[j]), criterion='maximin', iterations=1)\u001b[39;00m\n\u001b[0;32m      7\u001b[0m     end_time \u001b[38;5;241m=\u001b[39m time\u001b[38;5;241m.\u001b[39mtime()\n",
      "File \u001b[1;32mc:\\Users\\tiago.LENOVO-I7\\Unicamp\\PHD\\simpython\\.venv\\Lib\\site-packages\\pyDOE\\doe_lhs.py:113\u001b[0m, in \u001b[0;36mlhs\u001b[1;34m(n, samples, criterion, iterations)\u001b[0m\n\u001b[0;32m    111\u001b[0m     H \u001b[38;5;241m=\u001b[39m _lhscentered(n, samples)\n\u001b[0;32m    112\u001b[0m \u001b[38;5;28;01melif\u001b[39;00m criterion\u001b[38;5;241m.\u001b[39mlower() \u001b[38;5;129;01min\u001b[39;00m (\u001b[38;5;124m'\u001b[39m\u001b[38;5;124mmaximin\u001b[39m\u001b[38;5;124m'\u001b[39m, \u001b[38;5;124m'\u001b[39m\u001b[38;5;124mm\u001b[39m\u001b[38;5;124m'\u001b[39m):\n\u001b[1;32m--> 113\u001b[0m     H \u001b[38;5;241m=\u001b[39m \u001b[43m_lhsmaximin\u001b[49m\u001b[43m(\u001b[49m\u001b[43mn\u001b[49m\u001b[43m,\u001b[49m\u001b[43m \u001b[49m\u001b[43msamples\u001b[49m\u001b[43m,\u001b[49m\u001b[43m \u001b[49m\u001b[43miterations\u001b[49m\u001b[43m,\u001b[49m\u001b[43m \u001b[49m\u001b[38;5;124;43m'\u001b[39;49m\u001b[38;5;124;43mmaximin\u001b[39;49m\u001b[38;5;124;43m'\u001b[39;49m\u001b[43m)\u001b[49m\n\u001b[0;32m    114\u001b[0m \u001b[38;5;28;01melif\u001b[39;00m criterion\u001b[38;5;241m.\u001b[39mlower() \u001b[38;5;129;01min\u001b[39;00m (\u001b[38;5;124m'\u001b[39m\u001b[38;5;124mcentermaximin\u001b[39m\u001b[38;5;124m'\u001b[39m, \u001b[38;5;124m'\u001b[39m\u001b[38;5;124mcm\u001b[39m\u001b[38;5;124m'\u001b[39m):\n\u001b[0;32m    115\u001b[0m     H \u001b[38;5;241m=\u001b[39m _lhsmaximin(n, samples, iterations, \u001b[38;5;124m'\u001b[39m\u001b[38;5;124mcentermaximin\u001b[39m\u001b[38;5;124m'\u001b[39m)\n",
      "File \u001b[1;32mc:\\Users\\tiago.LENOVO-I7\\Unicamp\\PHD\\simpython\\.venv\\Lib\\site-packages\\pyDOE\\doe_lhs.py:174\u001b[0m, in \u001b[0;36m_lhsmaximin\u001b[1;34m(n, samples, iterations, lhstype)\u001b[0m\n\u001b[0;32m    171\u001b[0m \u001b[38;5;28;01melse\u001b[39;00m:\n\u001b[0;32m    172\u001b[0m     Hcandidate \u001b[38;5;241m=\u001b[39m _lhscentered(n, samples)\n\u001b[1;32m--> 174\u001b[0m d \u001b[38;5;241m=\u001b[39m \u001b[43m_pdist\u001b[49m\u001b[43m(\u001b[49m\u001b[43mHcandidate\u001b[49m\u001b[43m)\u001b[49m\n\u001b[0;32m    175\u001b[0m \u001b[38;5;28;01mif\u001b[39;00m maxdist\u001b[38;5;241m<\u001b[39mnp\u001b[38;5;241m.\u001b[39mmin(d):\n\u001b[0;32m    176\u001b[0m     maxdist \u001b[38;5;241m=\u001b[39m np\u001b[38;5;241m.\u001b[39mmin(d)\n",
      "File \u001b[1;32mc:\\Users\\tiago.LENOVO-I7\\Unicamp\\PHD\\simpython\\.venv\\Lib\\site-packages\\pyDOE\\doe_lhs.py:241\u001b[0m, in \u001b[0;36m_pdist\u001b[1;34m(x)\u001b[0m\n\u001b[0;32m    239\u001b[0m \u001b[38;5;28;01mfor\u001b[39;00m i \u001b[38;5;129;01min\u001b[39;00m \u001b[38;5;28mrange\u001b[39m(m \u001b[38;5;241m-\u001b[39m \u001b[38;5;241m1\u001b[39m):\n\u001b[0;32m    240\u001b[0m     \u001b[38;5;28;01mfor\u001b[39;00m j \u001b[38;5;129;01min\u001b[39;00m \u001b[38;5;28mrange\u001b[39m(i \u001b[38;5;241m+\u001b[39m \u001b[38;5;241m1\u001b[39m, m):\n\u001b[1;32m--> 241\u001b[0m         d\u001b[38;5;241m.\u001b[39mappend((\u001b[38;5;28;43msum\u001b[39;49m\u001b[43m(\u001b[49m\u001b[43m(\u001b[49m\u001b[43mx\u001b[49m\u001b[43m[\u001b[49m\u001b[43mj\u001b[49m\u001b[43m,\u001b[49m\u001b[43m \u001b[49m\u001b[43m:\u001b[49m\u001b[43m]\u001b[49m\u001b[43m \u001b[49m\u001b[38;5;241;43m-\u001b[39;49m\u001b[43m \u001b[49m\u001b[43mx\u001b[49m\u001b[43m[\u001b[49m\u001b[43mi\u001b[49m\u001b[43m,\u001b[49m\u001b[43m \u001b[49m\u001b[43m:\u001b[49m\u001b[43m]\u001b[49m\u001b[43m)\u001b[49m\u001b[38;5;241;43m*\u001b[39;49m\u001b[38;5;241;43m*\u001b[39;49m\u001b[38;5;241;43m2\u001b[39;49m\u001b[43m)\u001b[49m)\u001b[38;5;241m*\u001b[39m\u001b[38;5;241m*\u001b[39m\u001b[38;5;241m0.5\u001b[39m)\n\u001b[0;32m    243\u001b[0m \u001b[38;5;28;01mreturn\u001b[39;00m np\u001b[38;5;241m.\u001b[39marray(d)\n",
      "\u001b[1;31mKeyboardInterrupt\u001b[0m: "
     ]
    }
   ],
   "source": [
    "runtime_values = np.zeros_like(X)\n",
    "for xxxi in range(len(x_vaclues)):\n",
    "    for j in range(len(y_values)):\n",
    "        start_time = time.time()\n",
    "        samples = lhs(20, samples=int(10**y_values[j]), criterion='maximin', iterations=int(x_values[i]))\n",
    "        # samples = lhs(int(x_values[i]+0.1), samples=int(10**y_values[j]), criterion='maximin', iterations=1)\n",
    "        end_time = time.time()\n",
    "        tt = (end_time - start_time) / x_values[i]\n",
    "        print(f'Iterations={int(x_values[i])}, samples={int(10**y_values[j])}, time = {tt}')\n",
    "        runtime_values[j, i] = tt\n",
    "\n",
    "# Plot contour map\n",
    "plt.figure()\n",
    "contour_plot = plt.contourf(X, Y, runtime_values, cmap='viridis')\n",
    "plt.colorbar(contour_plot, label='Runtime (seconds)')\n",
    "plt.xlabel('X')\n",
    "plt.ylabel('Y')\n",
    "plt.title('Runtime Contour Map')\n",
    "plt.show()"
   ]
  }
 ],
 "metadata": {
  "kernelspec": {
   "display_name": "Python 3",
   "language": "python",
   "name": "python3"
  },
  "language_info": {
   "codemirror_mode": {
    "name": "ipython",
    "version": 3
   },
   "file_extension": ".py",
   "mimetype": "text/x-python",
   "name": "python",
   "nbconvert_exporter": "python",
   "pygments_lexer": "ipython3",
   "version": "3.12.1"
  }
 },
 "nbformat": 4,
 "nbformat_minor": 2
}
