{
 "cells": [
  {
   "cell_type": "markdown",
   "metadata": {},
   "source": [
    "# SR3 Reader\n",
    "\n",
    "* Reads data from SR3 file (HDF).\n",
    "* Return groups, wells, special and grid properties list.\n",
    "* Return 2D and 3D Time vector.\n",
    "* Return a 2D or 3D property.\n",
    "* Save all data to a csv file."
   ]
  },
  {
   "cell_type": "code",
   "execution_count": 92,
   "metadata": {},
   "outputs": [],
   "source": [
    "import h5py\n",
    "from datetime import datetime, timedelta\n",
    "import re\n",
    "import numpy as np\n",
    "from scipy import interpolate\n",
    "from collections import OrderedDict\n",
    "\n",
    "import matplotlib.pyplot as plt\n",
    "import matplotlib\n",
    "params = {'font.size'     : 10,\n",
    "          'figure.figsize':(8.0, 5.0),\n",
    "          'lines.linewidth': 1.,\n",
    "          'lines.markersize': 7,}\n",
    "matplotlib.rcParams.update(params)\n",
    "\n",
    "%matplotlib inline"
   ]
  },
  {
   "cell_type": "code",
   "execution_count": 93,
   "metadata": {},
   "outputs": [],
   "source": [
    "# f = h5py.File(r'..\\sr3\\base_case_3a.sr3', 'r')\n",
    "f = h5py.File(r'..\\sr3\\imex_2phi2k.sr3', 'r')"
   ]
  },
  {
   "cell_type": "code",
   "execution_count": 94,
   "metadata": {},
   "outputs": [],
   "source": [
    "# f.close()"
   ]
  },
  {
   "cell_type": "code",
   "execution_count": 95,
   "metadata": {},
   "outputs": [],
   "source": [
    "def _list_hdf_():\n",
    "    print(\"Main Groups in the HDF file:\")\n",
    "    for dataset in f.keys():\n",
    "        print(f'  {dataset}')\n",
    "\n",
    "    print(\"\\nAll Groups in the HDF file:\")\n",
    "    def get_type(name):\n",
    "        print(f'   {name:}\\t{type(f[name])}')\n",
    "    f.visit(get_type)"
   ]
  },
  {
   "cell_type": "markdown",
   "metadata": {},
   "source": [
    "## Master Data"
   ]
  },
  {
   "cell_type": "code",
   "execution_count": 96,
   "metadata": {},
   "outputs": [],
   "source": [
    "dataset = f['General/MasterTimeTable']\n",
    "day_list = {number:days for (number,days) in zip(dataset['Index'], dataset['Offset in days'])}\n",
    "\n",
    "def parse_date(date):\n",
    "    date_string = str(date)\n",
    "    integer_part = int(date_string.split('.')[0])\n",
    "    decimal_part = float(\"0.\" + date_string.split('.')[1])\n",
    "\n",
    "    parsed_date = datetime.strptime(str(integer_part), \"%Y%m%d\")\n",
    "    fraction_of_day = timedelta(days=decimal_part)\n",
    "    return parsed_date + fraction_of_day\n",
    "\n",
    "dataset = f['General/MasterTimeTable']\n",
    "date_list = {number:parse_date(date) for (number,date) in zip(dataset['Index'], dataset['Date'])}"
   ]
  },
  {
   "cell_type": "code",
   "execution_count": 97,
   "metadata": {},
   "outputs": [],
   "source": [
    "dataset = f['General/UnitsTable']\n",
    "unit_list = {number:{'type':name.decode().lower(), 'internal':in_name.decode(), 'current':out_name.decode(), 'conversion':dict()} for (number,name,in_name,out_name) in zip(dataset['Index'],dataset['Dimensionality'],dataset['Internal Unit'],dataset['Output Unit'])}\n",
    "\n",
    "dataset = f['General/UnitConversionTable']\n",
    "for (number, name, gain, offset) in zip(dataset['Dimensionality'],dataset['Unit Name'],dataset['Gain'],dataset['Offset']):\n",
    "    unit_list[number]['conversion'][name.decode()] = (1./gain, offset * (-1.))\n",
    "\n",
    "for d in unit_list.values():\n",
    "    if d['internal'] != d['current']:\n",
    "        gain, offset = d['conversion'][d['internal']]\n",
    "        for k in d['conversion']:\n",
    "            g, o = d['conversion'][k]\n",
    "            d['conversion'][k] = (g / gain, o - offset)\n",
    "\n",
    "for unit in unit_list.values():\n",
    "    if unit['internal'] not in unit['conversion']:\n",
    "        unit['conversion'][unit['internal']] = (1.,0.)"
   ]
  },
  {
   "cell_type": "code",
   "execution_count": 98,
   "metadata": {},
   "outputs": [
    {
     "data": {
      "text/plain": [
       "False"
      ]
     },
     "execution_count": 98,
     "metadata": {},
     "output_type": "execute_result"
    }
   ],
   "source": [
    "'ComponenTable' in f['General']"
   ]
  },
  {
   "cell_type": "code",
   "execution_count": 99,
   "metadata": {},
   "outputs": [
    {
     "data": {
      "text/plain": [
       "True"
      ]
     },
     "execution_count": 99,
     "metadata": {},
     "output_type": "execute_result"
    }
   ],
   "source": [
    "'HistoryTable' in f['General']"
   ]
  },
  {
   "cell_type": "code",
   "execution_count": 100,
   "metadata": {},
   "outputs": [],
   "source": [
    "if 'ComponentTable' in f['General']:\n",
    "    dataset = f['General/ComponentTable']\n",
    "    component_list = {(number+1):name[0].decode() for (number,name) in enumerate(dataset[:])}\n",
    "else:\n",
    "    component_list = {}\n",
    "\n",
    "def replace_components_property_list(property_list):\n",
    "    pattern = re.compile(r'\\((\\d+)\\)')\n",
    "    def replace(match):\n",
    "        number = int(match.group(1))\n",
    "        return f'({str(component_list.get(number, match.group(1)))})'\n",
    "    return {pattern.sub(replace, k):v for k,v in property_list.items()}"
   ]
  },
  {
   "cell_type": "code",
   "execution_count": 101,
   "metadata": {},
   "outputs": [],
   "source": [
    "dataset = f['General/NameRecordTable']\n",
    "property_list = dict()\n",
    "for (keyword,name,long_name,dimensionality) in zip(dataset['Keyword'],dataset['Name'],dataset['Long Name'],dataset['Dimensionality']):\n",
    "    if keyword != '':\n",
    "        keyword = keyword.decode()\n",
    "        name = name.decode()\n",
    "        long_name = long_name.decode()\n",
    "        dimensionality = dimensionality.decode()\n",
    "        if keyword[-2:] == '$C':\n",
    "            for c in component_list.values():\n",
    "                property_list[f'{keyword[:-2]}({c})'] = {'name':name.replace('$C', f' ({c})'), 'long name':long_name.replace('$C', f' ({c})'), 'dimensionality_string':dimensionality}\n",
    "        else:\n",
    "            property_list[keyword] = {'name':name, 'long name':long_name, 'dimensionality_string':dimensionality}"
   ]
  },
  {
   "cell_type": "code",
   "execution_count": 102,
   "metadata": {},
   "outputs": [],
   "source": [
    "def _unit_from_dimensionality(dimensionality_string):\n",
    "    if dimensionality_string == '':\n",
    "        return ''\n",
    "    unit = ''\n",
    "    if dimensionality_string[0] == '-':\n",
    "        unit = '1'\n",
    "    d = ''\n",
    "    for c in dimensionality_string:\n",
    "        if c == '|':\n",
    "            unit = unit + unit_list[int(d)]['current']\n",
    "            d = ''\n",
    "        elif c == '-':\n",
    "            unit = unit + '/'\n",
    "        else:\n",
    "            d = d + c\n",
    "    return unit\n",
    "\n",
    "def _unit_conversion_from_dimensionality(dimensionality_string, is_delta=False):\n",
    "    if dimensionality_string == '':\n",
    "        return (1., 0.)\n",
    "    gain = 1.\n",
    "    offset = 0.\n",
    "    inverse = False\n",
    "    if dimensionality_string[0] == '-':\n",
    "        inverse = True\n",
    "    d = ''\n",
    "    for c in dimensionality_string:\n",
    "        if c == '|':\n",
    "            unit = unit_list[int(d)]['current']\n",
    "            gain_new, offset_new = unit_list[int(d)]['conversion'][unit]\n",
    "            d = ''\n",
    "            if inverse:\n",
    "                gain = gain / gain_new\n",
    "                offset = 0.\n",
    "            else:\n",
    "                gain = gain * gain_new\n",
    "                if is_delta:\n",
    "                    offset = 0.\n",
    "                else:\n",
    "                    offset = offset * gain_new + offset_new\n",
    "        elif c == '-':\n",
    "            inverse = True\n",
    "        else:\n",
    "            d = d + c\n",
    "    return (gain, offset)\n",
    "\n",
    "def _update_properties_units():\n",
    "    for p in property_list:\n",
    "        property_list[p]['conversion'] = _unit_conversion_from_dimensionality(property_list[p]['dimensionality_string'])\n",
    "        property_list[p]['unit'] = _unit_from_dimensionality(property_list[p]['dimensionality_string'])\n",
    "\n",
    "def _get_unit_type_number(dimensionality):\n",
    "    if isinstance(dimensionality, str):\n",
    "        d = [d for d in unit_list if unit_list[d]['type'] == dimensionality.lower()]\n",
    "        if len(d) == 0:\n",
    "            raise ValueError(f'{dimensionality} is not a valid unit type.')\n",
    "        if len(d) > 1:\n",
    "            raise ValueError(f'{dimensionality} found more than once. Check code.')\n",
    "        return d[0]\n",
    "    else:\n",
    "        return dimensionality\n",
    "\n",
    "def set_current_unit(dimensionality, unit):\n",
    "    dimensionality = _get_unit_type_number(dimensionality)\n",
    "    if unit not in unit_list[dimensionality]['conversion']:\n",
    "        raise ValueError(f'{unit} is not a valid unit for {unit_list[dimensionality]['type']}.')\n",
    "    unit_list[dimensionality]['current'] = unit\n",
    "    _update_properties_units()\n",
    "\n",
    "def get_current_units():\n",
    "    for d in unit_list.values():\n",
    "        print(f'{d[\"type\"]}: {d[\"current\"]}')"
   ]
  },
  {
   "cell_type": "code",
   "execution_count": 103,
   "metadata": {},
   "outputs": [],
   "source": [
    "def _get_unit_numbers(unit):\n",
    "    out = list()\n",
    "    for u in unit_list:\n",
    "        for c in unit_list[u]['conversion']:\n",
    "            if unit == c:\n",
    "                out.append(u)\n",
    "    return out\n",
    "\n",
    "def add_new_unit(old_unit, new_unit, gain, offset):\n",
    "    unit_numbers = _get_unit_numbers(old_unit)\n",
    "    if len(unit_numbers) == 0:\n",
    "        raise ValueError(f'{old_unit} was not found in Units Table.')\n",
    "\n",
    "    for u in unit_numbers:\n",
    "        g, o = unit_list[u]['conversion'][old_unit]\n",
    "        unit_list[u]['conversion'][new_unit] = (g * gain, o * gain + offset)"
   ]
  },
  {
   "cell_type": "code",
   "execution_count": 104,
   "metadata": {},
   "outputs": [],
   "source": [
    "def get_property_description(property_):\n",
    "    return {'description': property_list[property_]['name'],\n",
    "            'long description': property_list[property_]['long name'],\n",
    "            'unit': property_list[property_]['unit']\n",
    "            }\n",
    "\n",
    "def get_property_unit(property_):\n",
    "    return property_list[property_]['unit']"
   ]
  },
  {
   "cell_type": "code",
   "execution_count": 105,
   "metadata": {},
   "outputs": [
    {
     "name": "stdout",
     "output_type": "stream",
     "text": [
      "time: day\n",
      "temperature: C\n",
      "pressure: kgf/cm2\n",
      "length: m\n",
      "property volume: m3\n",
      "permeability: md\n",
      "mass: kg\n",
      "molar mass: gmole\n",
      "viscosity: mPa-sec\n",
      "energy: J\n",
      "well liquid volume: m3\n",
      "well gas volume: m3\n",
      "well rate time: day\n",
      "interfacial tension: dyne/cm\n",
      "electrical current: A\n",
      "electrical power: kW\n",
      "electrical potential: V\n",
      "electrical resistance: ohm\n",
      "electrical conductivity: S/m\n",
      "electrical energy: kW-hr\n",
      "temperature difference: C\n",
      "diffusion/dispersion coeff.: cm2/s\n",
      "concentration: kg/m3\n",
      "molar concentration: lbmole/bbl\n"
     ]
    }
   ],
   "source": [
    "additional_units = [('m3', 'MMm3', (1.e-6, 0.0)),\n",
    "                    ('bbl', 'MMbbl', (1.e-6, 0.0)),\n",
    "                    ('kg/cm2', 'kgf/cm2', (1., 0.0)),\n",
    "                    ]\n",
    "\n",
    "for old, new, (gain, offset) in additional_units:\n",
    "    add_new_unit(old, new, gain, offset)\n",
    "\n",
    "set_current_unit('pressure','kgf/cm2')\n",
    "get_current_units()"
   ]
  },
  {
   "cell_type": "markdown",
   "metadata": {},
   "source": [
    "### Property Formulas (todo)"
   ]
  },
  {
   "cell_type": "markdown",
   "metadata": {},
   "source": [
    "* Basic\n",
    "    * 1035: sum (2 parameters)\n",
    "    * 1037: sum (3 parameters)\n",
    "\n",
    "* Time derivatives\n",
    "    * 1040: derivative (1 parameter)\n",
    "    * 1045: monthly derivative (1 parameter)\n",
    "    * 1046: quarterly derivative (1 parameter)\n",
    "    * 1047: yearly derivative (1 parameter)\n",
    "    * 1048: daily derivative (1 parameter)\n",
    "    * 1049: weekly derivative (1 parameter)\n",
    "\n",
    "* Percentage\n",
    "    * 1055: A*100 (1 parameter)\n",
    "\n",
    "* Division\n",
    "    * 1060: division (2 parameters)\n",
    "    * 1062: division * 100 (2 parameters) <= used with on-fraction\n",
    "\n",
    "    * 1080: division (2 parameters)\n",
    "\n",
    "* Previous month\n",
    "    * 1121: monthly derivative of previous month (1 parameter)\n",
    "    * 1122: yearly derivative of previous month (1 parameter)\n",
    "\n",
    "* Grid properties(?)\n",
    "    * 1130: A*grid height (1 parameter)\n",
    "    * 1140: A/(B*C) ? (3 parameters)\n",
    "    * 1160: A*B (2 parameters)\n",
    "    * 1200: ternary (2 parameters)\n",
    "    * 1210: sum over layers (1 parameter)\n",
    "\n",
    "* Per sector\n",
    "    * 1110: ??? (1 parameter) <= per sector\n",
    "    * 1245: ??? (1 parameter) <= per sector\n",
    "    * 1246: derivative of 1245 (1 parameter) \n",
    "\n"
   ]
  },
  {
   "cell_type": "markdown",
   "metadata": {},
   "source": [
    "## Common Routines"
   ]
  },
  {
   "cell_type": "code",
   "execution_count": 106,
   "metadata": {},
   "outputs": [],
   "source": [
    "def is_iterable(obj):\n",
    "    try:\n",
    "        iter(obj)\n",
    "        return True\n",
    "    except TypeError:\n",
    "        return False\n",
    "    \n",
    "def remove_duplicates(input_list):\n",
    "    unique_items = OrderedDict()\n",
    "    for item in input_list:\n",
    "        unique_items[item] = None\n",
    "    return list(unique_items.keys())"
   ]
  },
  {
   "cell_type": "markdown",
   "metadata": {},
   "source": [
    "## Time Series"
   ]
  },
  {
   "cell_type": "code",
   "execution_count": 107,
   "metadata": {},
   "outputs": [],
   "source": [
    "_element = {'special':{'':0}, 'grid':{'MATRIX':0}}\n",
    "_parent = dict()\n",
    "_connection = dict()\n",
    "_property = dict()\n",
    "_timestep = dict()\n",
    "_day = dict()\n",
    "_date = dict()\n",
    "\n",
    "def _get_dataset(element_type, dataset_string):\n",
    "    if element_type == 'grid':\n",
    "        s = f'SpatialProperties/{dataset_string.upper()}'\n",
    "    else:\n",
    "        el_type_string = element_type.upper()\n",
    "        if element_type == 'special':\n",
    "            el_type_string = el_type_string + ' HISTORY'\n",
    "        else:\n",
    "            el_type_string = el_type_string + 'S'\n",
    "        s = f'TimeSeries/{el_type_string}/{dataset_string}'\n",
    "    if s in f:\n",
    "        return f[s]\n",
    "    else:\n",
    "        raise ValueError(f'Dataset {dataset_string} not found for {element_type}. {s} does not exist.')\n",
    "    \n",
    "def get_elements(element_type):        \n",
    "    if element_type not in _element:\n",
    "        dataset = _get_dataset(element_type=element_type, dataset_string='Origins')\n",
    "        _element[element_type] = {name.decode():number for (number,name) in enumerate(dataset[:]) if name.decode()!=''}\n",
    "    return _element[element_type]\n",
    "\n",
    "def get_properties(element_type):\n",
    "    if element_type not in _property:\n",
    "        if element_type == 'grid':\n",
    "            _property[element_type] = _get_grid_properties()\n",
    "        else:\n",
    "            dataset = _get_dataset(element_type=element_type, dataset_string='Variables')\n",
    "            _property[element_type] = {name.decode():number for (number,name) in enumerate(dataset[:])}\n",
    "            _property[element_type] = replace_components_property_list(_property[element_type])\n",
    "    return _property[element_type]\n",
    "\n",
    "def get_timesteps(element_type):\n",
    "    if element_type not in _timestep:\n",
    "        if element_type == 'grid':\n",
    "            _timestep[element_type] = _get_grid_timesteps()\n",
    "        else:    \n",
    "            dataset = _get_dataset(element_type=element_type, dataset_string='Timesteps')\n",
    "            _timestep[element_type] = dataset[:]\n",
    "    return _timestep[element_type]\n",
    "\n",
    "def get_days(element_type):\n",
    "    if element_type not in _day:\n",
    "        timesteps = get_timesteps(element_type=element_type)\n",
    "        _day[element_type] = np.vectorize(lambda x: day_list[x])(timesteps)\n",
    "    return _day[element_type]\n",
    "\n",
    "def get_dates(element_type):\n",
    "    if element_type not in _date:\n",
    "        timesteps = get_timesteps(element_type=element_type)\n",
    "        _date[element_type] = np.vectorize(lambda x: date_list[x])(timesteps)\n",
    "    return _date[element_type]\n",
    "\n",
    "def _get_parents(element_type):\n",
    "    if element_type in ['well', 'group', 'layer']:\n",
    "        dataset = _get_dataset(element_type=element_type, dataset_string=f'{element_type.capitalize()}Table')\n",
    "        def _name(name, parent):\n",
    "            if element_type == 'layer':\n",
    "                return f'{parent.decode()}{{{name.decode()}}}'\n",
    "            else:\n",
    "                return name.decode()\n",
    "        _parent[element_type] = {_name(name, parent):parent.decode() for (name,parent) in zip(dataset['Name'], dataset['Parent'])}\n",
    "    else:\n",
    "        _parent[element_type] = {name:'' for name in get_elements(element_type)}\n",
    "\n",
    "def get_parent(element_type, element_name):\n",
    "    if element_type not in _parent:\n",
    "        _get_parents(element_type)\n",
    "    return _parent[element_type][element_name]\n",
    "\n",
    "def _get_connections(element_type):\n",
    "    if element_type == 'layer':\n",
    "        dataset = _get_dataset(element_type=element_type, dataset_string=f'{element_type.capitalize()}Table')\n",
    "        def _name(name, parent):\n",
    "            return f'{parent.decode()}{{{name.decode()}}}'\n",
    "        _connection[element_type] = {_name(name, parent):connection for (name,parent,connection) in zip(dataset['Name'], dataset['Parent'], dataset['Connect To'])}\n",
    "    else:\n",
    "        _connection[element_type] = {name:'' for name in get_elements(element_type)}\n",
    "\n",
    "def get_connection(element_type, element_name):\n",
    "    if element_type not in _connection:\n",
    "        _get_connections(element_type)\n",
    "    return _connection[element_type][element_name]\n"
   ]
  },
  {
   "cell_type": "code",
   "execution_count": 108,
   "metadata": {},
   "outputs": [],
   "source": [
    "def _get_grid_sizes():\n",
    "    dataset = f['SpatialProperties/000000/GRID']\n",
    "    ni = dataset['IGNTID'][0]\n",
    "    nj = dataset['IGNTJD'][0]\n",
    "    nk = dataset['IGNTKD'][0]\n",
    "    n_active = dataset['IPSTCS'].size\n",
    "    if dataset['IPSTCS'][-1] > ni*nj*nk:\n",
    "        _element['grid']['FRACTURE'] = np.where(f['SpatialProperties/000000/GRID/IPSTCS'] > ni*nj*nk)[0][0]\n",
    "    return ni, nj, nk, n_active\n",
    "\n",
    "def _get_grid_timesteps():\n",
    "    dataset = f['SpatialProperties']\n",
    "    grid_timestep_list = list()\n",
    "    for key in dataset.keys():\n",
    "        sub_dataset = f[f\"SpatialProperties/{key}\"]\n",
    "        if isinstance(sub_dataset, h5py._hl.group.Group):\n",
    "            grid_timestep_list.append(int(key))\n",
    "    return np.array(grid_timestep_list)"
   ]
  },
  {
   "cell_type": "code",
   "execution_count": 109,
   "metadata": {},
   "outputs": [],
   "source": [
    "def _get_grid_properties():\n",
    "    dataset = f['SpatialProperties/Statistics']\n",
    "    grid_property_list = {name.decode().replace('/','%2F'):{'min':min_, 'max':max_, 'timesteps':set(), 'is_internal':False, 'is_complete':False} for name,min_,max_ in zip(dataset['Keyword'],dataset['Min'],dataset['Max'])}\n",
    "\n",
    "    ni, nj, nk, n_active = _get_grid_sizes()\n",
    "    n_cells = ni*nj*nk\n",
    "\n",
    "    def _list_grid_properties(timestep, add_timestep=True):\n",
    "        dataset = f[f'SpatialProperties/{timestep}']\n",
    "        for key in dataset.keys():\n",
    "            sub_dataset = f[f\"SpatialProperties/{timestep}/{key}\"]\n",
    "            if isinstance(sub_dataset, h5py._hl.dataset.Dataset):\n",
    "                if key in grid_property_list:\n",
    "                    size = sub_dataset.size\n",
    "                    if size in [n_cells, n_active]:\n",
    "                        if 'size' in grid_property_list[key]:\n",
    "                            if grid_property_list[key]['size'] != sub_dataset.size:\n",
    "                                raise ValueError(f'Inconsistent grid size for {key}.')\n",
    "                        else:\n",
    "                            grid_property_list[key]['size'] = sub_dataset.size\n",
    "                            grid_property_list[key]['is_complete'] = sub_dataset.size == n_cells\n",
    "                        if add_timestep:\n",
    "                            grid_property_list[key]['timesteps'].add(int(timestep))\n",
    "                        else:\n",
    "                            grid_property_list[key]['is_internal'] = True\n",
    "                    else:\n",
    "                        _ = grid_property_list.pop(key)\n",
    "                else:\n",
    "                    raise ValueError(f'{key} not listed previously!')\n",
    "\n",
    "    _list_grid_properties('000000/GRID', False)\n",
    "    for ts in get_timesteps('grid'):\n",
    "        _list_grid_properties(str(ts).zfill(6))\n",
    "    return grid_property_list"
   ]
  },
  {
   "cell_type": "markdown",
   "metadata": {},
   "source": [
    "### Get Data"
   ]
  },
  {
   "cell_type": "code",
   "execution_count": 110,
   "metadata": {},
   "outputs": [],
   "source": [
    "def _concatenate_arrays(arr1, arr2):\n",
    "    if arr1.ndim == 1:\n",
    "        arr1 = arr1.reshape(-1,1)\n",
    "    if arr2.ndim == 1:\n",
    "        arr2 = arr2.reshape(-1,1)\n",
    "    return np.hstack((arr1, arr2))\n",
    "\n",
    "def _data_unit_conversion(data, property_name):\n",
    "    n_data_columns = data.shape[1]\n",
    "\n",
    "    if isinstance(property_name, str):\n",
    "        property_name = [property_name]\n",
    "    \n",
    "    n_properties = len(property_name)\n",
    "    n_elements = int(n_data_columns / n_properties)\n",
    "    for i_property,p in enumerate(property_name):\n",
    "        gain, offset = property_list[p]['conversion']\n",
    "        if gain != 1.0 or offset != 0.0:\n",
    "            for i_element in range(n_elements):\n",
    "                k = i_property + i_element * n_properties\n",
    "                data[:,k] = data[:,k] * gain + offset\n",
    "\n",
    "def _get_dataset_2D_data(dataset, param1, param2):\n",
    "    def _ordered_x(x):\n",
    "        if isinstance(x, list):\n",
    "            x_ordered = list(set(x)).copy()\n",
    "            x_ordered.sort()\n",
    "        return x_ordered\n",
    "    x1 = _ordered_x(param1)\n",
    "    x2 = _ordered_x(param2)\n",
    "    \n",
    "    indexes = []\n",
    "    if len(x1) > len(x2):\n",
    "        data = dataset[:,x1,x2[0]]\n",
    "        indexes.extend([(xi,x2[0]) for xi in x1])\n",
    "        for x in x2[1:]:\n",
    "            data = _concatenate_arrays(data, dataset[:,x1,x])\n",
    "            indexes.extend([(xi,x) for xi in x1])\n",
    "    else:\n",
    "        data = dataset[:,x1[0],x2]\n",
    "        indexes.extend([(x1[0],xi) for xi in x2])\n",
    "        for x in x1[1:]:\n",
    "            data = _concatenate_arrays(data, dataset[:,x,x2])\n",
    "            indexes.extend([(x,xi) for xi in x2])\n",
    "\n",
    "    original_index = []\n",
    "    for p2 in param2:\n",
    "        for p1 in param1:\n",
    "            original_index.append((p1,p2))\n",
    "    order = [indexes.index(x) for x in original_index]\n",
    "\n",
    "    return data[:, order]\n",
    "\n",
    "def _get_raw_data(element_type, property_names, element_names=[''], with_dates=False, with_days=False, with_timesteps=False):\n",
    "    def _get_indexes(name_list, index_dict):\n",
    "        if isinstance(name_list, list):\n",
    "            return [index_dict[name] for name in name_list]\n",
    "        else:\n",
    "            return [index_dict[name_list]]\n",
    "\n",
    "    property_indexes = _get_indexes(property_names, get_properties(element_type))\n",
    "    element_indexes = _get_indexes(element_names, get_elements(element_type))\n",
    "\n",
    "    dataset = _get_dataset(element_type=element_type, dataset_string='Data')\n",
    "\n",
    "    data = _get_dataset_2D_data(dataset, property_indexes,element_indexes)\n",
    "    _data_unit_conversion(data, property_names)\n",
    "\n",
    "    if with_dates:\n",
    "        return _concatenate_arrays(get_dates(element_type=element_type), data)\n",
    "    elif with_days:\n",
    "        return _concatenate_arrays(get_days(element_type=element_type), data)\n",
    "    elif with_timesteps:\n",
    "        return _concatenate_arrays(get_timesteps(element_type=element_type), data)\n",
    "    else:\n",
    "        return data\n",
    "    \n",
    "def _get_interp_data(days, element_type=None, property_names=None, element_names=[''], raw_data=None):\n",
    "    if raw_data is None:\n",
    "        raw_data = _get_raw_data(element_type=element_type, property_names=property_names, element_names=element_names, with_days=True)\n",
    "    data = np.array(days)\n",
    "    for i in range(1, raw_data.shape[1]):\n",
    "        interp = interpolate.interp1d(raw_data[:,0], raw_data[:,i], kind = \"linear\")\n",
    "        y = interp(days)\n",
    "        data = _concatenate_arrays(data, y)\n",
    "    return data\n",
    "\n",
    "def get_data(days=None, element_type=None, property_names=None, element_names=[''], raw_data=None):\n",
    "    if raw_data is None:\n",
    "        raw_data = _get_raw_data(element_type=element_type, property_names=property_names, element_names=element_names, with_days=True)\n",
    "    if days is None:\n",
    "        data = raw_data\n",
    "    else:\n",
    "        data = _get_interp_data(days=days, raw_data=raw_data)\n",
    "    return data\n",
    "\n",
    "def get_series_order(property_names, element_names=['']):\n",
    "    if isinstance(property_names, str):\n",
    "        property_names = [property_names]\n",
    "    if isinstance(element_names, str):\n",
    "        element_names = [element_names]\n",
    "\n",
    "    original_index = []\n",
    "    for element in element_names:\n",
    "        for property_ in property_names:\n",
    "            original_index.append((element, property_))\n",
    "    return original_index"
   ]
  },
  {
   "cell_type": "code",
   "execution_count": 112,
   "metadata": {},
   "outputs": [],
   "source": [
    "def _get_grid_data(property_names, days=None, element_names=['MATRIX']):\n",
    "    if days is None:\n",
    "        days = [0]\n",
    "    \n",
    "    def _get_indexes(name_list, index_dict):\n",
    "        if isinstance(name_list, list):\n",
    "            return [index_dict[name] for name in name_list]\n",
    "        else:\n",
    "            return [index_dict[name_list]]\n",
    "    \n",
    "\n",
    "    # property_indexes = _get_indexes(property_names, get_properties(element_type))"
   ]
  },
  {
   "cell_type": "code",
   "execution_count": 113,
   "metadata": {},
   "outputs": [
    {
     "data": {
      "text/plain": [
       "True"
      ]
     },
     "execution_count": 113,
     "metadata": {},
     "output_type": "execute_result"
    }
   ],
   "source": [
    "_property = {}\n",
    "get_properties('grid')['BKRGCL']['timesteps'] == {0}"
   ]
  },
  {
   "cell_type": "code",
   "execution_count": 125,
   "metadata": {},
   "outputs": [],
   "source": [
    "def _get_single_grid_property(property_name, ts=None, element_names=['MATRIX']):\n",
    "    if 'FRACTURE' not in get_elements('grid') and 'FRACTURE' in element_names:\n",
    "        raise ValueError('Current grid does not have fracture values.')\n",
    "\n",
    "    if get_properties('grid')[property_name]['is_internal']:\n",
    "        ts = '000000/GRID'\n",
    "    else:\n",
    "        if ts is None:\n",
    "            ts = 0\n",
    "        if ts not in get_properties('grid')[property_name]['timesteps']:\n",
    "            raise ValueError(f'Grid property {property_name} does not have values for timestep {ts}.')\n",
    "        ts = str(ts).zfill(6)\n",
    "\n",
    "    dataset = _get_dataset(element_type='grid', dataset_string=f'{ts}/{property_name}')\n",
    "    ni, nj, nk, _ = _get_grid_sizes()\n",
    "    size = get_properties('grid')[property_name]['size']\n",
    "\n",
    "    if size == ni*nj*nk:\n",
    "        return dataset[:]\n",
    "    elif 'FRACTURE' not in get_elements('grid'):\n",
    "        return dataset[:]\n",
    "    elif element_names == ['MATRIX','FRACTURE']:\n",
    "        return dataset[:]\n",
    "    elif element_names == ['MATRIX']:\n",
    "        return dataset[:get_elements('grid')['FRACTURE']]\n",
    "    elif element_names == ['FRACTURE']:\n",
    "        return dataset[get_elements('grid')['FRACTURE']:]"
   ]
  },
  {
   "cell_type": "code",
   "execution_count": 126,
   "metadata": {},
   "outputs": [
    {
     "data": {
      "text/plain": [
       "array([2, 3, 4, 5, 6, 7, 8])"
      ]
     },
     "execution_count": 126,
     "metadata": {},
     "output_type": "execute_result"
    }
   ],
   "source": [
    "_get_single_grid_property(property_name='IPSTCS', element_names=['MATRIX'])"
   ]
  },
  {
   "cell_type": "code",
   "execution_count": 127,
   "metadata": {},
   "outputs": [
    {
     "data": {
      "text/plain": [
       "array([ 0., 10., 10., 10., 10., 10., 10., 10.], dtype=float32)"
      ]
     },
     "execution_count": 127,
     "metadata": {},
     "output_type": "execute_result"
    }
   ],
   "source": [
    "_get_single_grid_property('DIFRAC', 0, ['FRACTURE'])"
   ]
  },
  {
   "cell_type": "code",
   "execution_count": 128,
   "metadata": {},
   "outputs": [
    {
     "data": {
      "text/plain": [
       "array([198000., 196000., 194000., 180000., 178000., 176000., 174000.],\n",
       "      dtype=float32)"
      ]
     },
     "execution_count": 128,
     "metadata": {},
     "output_type": "execute_result"
    }
   ],
   "source": [
    "_get_single_grid_property('MODBVOL', 0, ['MATRIX'])"
   ]
  },
  {
   "cell_type": "code",
   "execution_count": 129,
   "metadata": {},
   "outputs": [
    {
     "data": {
      "text/plain": [
       "array([0.51995313, 0.5112802 , 0.49849296, 0.5928169 , 0.5842867 ,\n",
       "       0.5912656 , 0.5918971 ], dtype=float32)"
      ]
     },
     "execution_count": 129,
     "metadata": {},
     "output_type": "execute_result"
    }
   ],
   "source": [
    "_get_single_grid_property('SO', 193, ['MATRIX'])"
   ]
  },
  {
   "cell_type": "code",
   "execution_count": 130,
   "metadata": {},
   "outputs": [
    {
     "data": {
      "text/plain": [
       "array([0.50657755, 0.4954425 , 0.4723751 , 0.59053046, 0.5792469 ,\n",
       "       0.58530223, 0.5846028 ], dtype=float32)"
      ]
     },
     "execution_count": 130,
     "metadata": {},
     "output_type": "execute_result"
    }
   ],
   "source": [
    "_get_single_grid_property('SO', 193, ['FRACTURE'])"
   ]
  },
  {
   "cell_type": "code",
   "execution_count": 131,
   "metadata": {},
   "outputs": [
    {
     "data": {
      "text/plain": [
       "array([0.51995313, 0.5112802 , 0.49849296, 0.5928169 , 0.5842867 ,\n",
       "       0.5912656 , 0.5918971 , 0.50657755, 0.4954425 , 0.4723751 ,\n",
       "       0.59053046, 0.5792469 , 0.58530223, 0.5846028 ], dtype=float32)"
      ]
     },
     "execution_count": 131,
     "metadata": {},
     "output_type": "execute_result"
    }
   ],
   "source": [
    "_get_single_grid_property('SO', 193, ['MATRIX','FRACTURE'])"
   ]
  },
  {
   "cell_type": "markdown",
   "metadata": {},
   "source": [
    "## Plotting"
   ]
  },
  {
   "cell_type": "code",
   "execution_count": 121,
   "metadata": {},
   "outputs": [],
   "source": [
    "def _align_y_axis(ax1, ax2, verbose=False):\n",
    "    if verbose:\n",
    "        print(f'1st axis: {ax1.get_ylim()}')\n",
    "        print(f'          {ax1.get_yticks()}')\n",
    "\n",
    "        print(f'2nd axis: {ax2.get_ylim()}')\n",
    "        print(f'          {ax2.get_yticks()}')\n",
    "    \n",
    "    n_extra_ticks = len(ax1.get_yticks()) - len(ax2.get_yticks())\n",
    "    if n_extra_ticks >= 0:\n",
    "        ax_a = ax1\n",
    "        ax_b = ax2\n",
    "    elif n_extra_ticks < 0:\n",
    "        ax_a = ax2\n",
    "        ax_b = ax1\n",
    "    n_extra_ticks = abs(n_extra_ticks)\n",
    "    \n",
    "    ya_ticks = ax_a.get_yticks()\n",
    "    yb_ticks = ax_b.get_yticks()\n",
    "\n",
    "    if n_extra_ticks > 0:\n",
    "        delta = (yb_ticks[-1] - yb_ticks[0]) / (len(yb_ticks) - 1)\n",
    "        yb_ticks = np.linspace(yb_ticks[0],yb_ticks[-1] + n_extra_ticks * delta, len(ya_ticks))\n",
    "        ax_b.set_yticks(yb_ticks)\n",
    "\n",
    "    ya_min, ya_max = ax_a.get_ylim()\n",
    "    lower_delta = (ya_ticks[1] - ya_min) / (ya_ticks[-2] - ya_ticks[1])\n",
    "    upper_delta = (ya_max - ya_ticks[-2]) / (ya_ticks[-2] - ya_ticks[1])\n",
    "    ax_b.set_ylim(yb_ticks[1] - (yb_ticks[-2] - yb_ticks[1]) * lower_delta,\n",
    "                    yb_ticks[-2] + (yb_ticks[-2] - yb_ticks[1]) * upper_delta)\n",
    "    return\n",
    "\n",
    "def get_data_and_plot(days=None, element_type=None, property_names=None, element_names=[''], data=None, keep_all_zeros_series=True, line_styles=None, keep_legend_outside=False, use_secondary_axis=False):\n",
    "    if data is None:\n",
    "        data = get_data(days=days, element_type=element_type, property_names=property_names, element_names=element_names)\n",
    "    series_names = get_series_order(property_names=property_names, element_names=element_names)\n",
    "\n",
    "    if line_styles is None:\n",
    "        line_styles = ['-' for _ in range(len(series_names))]\n",
    "    \n",
    "    _, ax1 = plt.subplots()\n",
    "    is_second_axis = set()\n",
    "    if use_secondary_axis:\n",
    "        ax2 = ax1.twinx()\n",
    "        if len(property_names) == 2:\n",
    "            is_second_axis.add(property_names[1])\n",
    "        elif len(property_names) > 2:\n",
    "            first_unit = get_property_unit(property_names[0])\n",
    "            for p in property_names[1:]:\n",
    "                if get_property_unit(p) != first_unit:\n",
    "                    is_second_axis.add(p)\n",
    "\n",
    "    x = data[:,0]\n",
    "    property_ploted = list()\n",
    "    property_ploted_second_axis = list()\n",
    "    for i, (element, property_) in enumerate(series_names):\n",
    "        if (keep_all_zeros_series) or (not min(data[:,i+1])==max(data[:,i+1])==0):\n",
    "            if property_ in is_second_axis:\n",
    "                ax2.plot(x,data[:,i+1], line_styles[i], label = f\"{element}: {property_}\")\n",
    "                property_ploted_second_axis.append(property_)\n",
    "            else:\n",
    "                ax1.plot(x,data[:,i+1], line_styles[i], label = f\"{element}: {property_}\")\n",
    "                property_ploted.append(property_)\n",
    "    \n",
    "    ax1.grid()\n",
    "    ax1.set_xlabel(\"days\")\n",
    "    ax1.set_ylabel(', '.join([f'{property_} [{get_property_unit(property_)}]' for property_ in remove_duplicates(property_ploted)]))\n",
    "    if use_secondary_axis:\n",
    "        ax2.set_ylabel(', '.join([f'{property_} [{get_property_unit(property_)}]' for property_ in remove_duplicates(property_ploted_second_axis)]))\n",
    "    \n",
    "    plt.title('\\n'.join([f'{get_property_description(property_)[\"long description\"]}' for property_ in remove_duplicates(property_ploted +  property_ploted_second_axis)]))\n",
    "\n",
    "    if use_secondary_axis:\n",
    "        lines, labels = ax1.get_legend_handles_labels()\n",
    "        lines2, labels2 = ax2.get_legend_handles_labels()\n",
    "        if keep_legend_outside:\n",
    "            ax1.legend(lines + lines2, labels + labels2, loc='center left', bbox_to_anchor=(1.1, 0.5))\n",
    "        else:\n",
    "            ax1.legend(lines + lines2, labels + labels2, loc='best')\n",
    "    else:\n",
    "        if keep_legend_outside:\n",
    "            plt.legend(loc='center left', bbox_to_anchor=(1, 0.5))\n",
    "        else:\n",
    "            plt.legend(loc='best')\n",
    "\n",
    "    x_min, x_max = ax1.get_xlim()\n",
    "    x_ticks = ax1.get_xticks()\n",
    "    if len(x_ticks) < 8:\n",
    "        new_ticks = [(x_ticks[i] + x_ticks[i+1])/2 for i in range(len(x_ticks)-1)]\n",
    "        ax1.set_xticks(list(x_ticks) + new_ticks)\n",
    "        ax1.set_xlim(x_min, x_max)\n",
    "\n",
    "    if use_secondary_axis:\n",
    "        _align_y_axis(ax1, ax2)\n",
    "\n",
    "    plt.show()"
   ]
  },
  {
   "cell_type": "markdown",
   "metadata": {},
   "source": [
    "## Tests"
   ]
  },
  {
   "cell_type": "markdown",
   "metadata": {},
   "source": [
    "### Dictionaries"
   ]
  },
  {
   "cell_type": "code",
   "execution_count": 122,
   "metadata": {},
   "outputs": [
    {
     "name": "stdout",
     "output_type": "stream",
     "text": [
      "well\n",
      "  Timesteps:   [ 1  5 16]\n",
      "  Days:        [ 1. 31. 60.]\n",
      "  Dates:       ['2000-01-02 00:00:00', '2000-02-01 00:00:00']\n",
      "  Properties:  {'WELLSTATE': 0, 'WELLOPMO': 1, 'WHP': 2, 'BHP': 3, 'ONFRAC': 4, 'CGLIFT': 5, 'WELLOTIME': 6, 'BLOCKP': 7, 'MOBWTBLKP': 8, 'MOBWTDATP': 9, 'OILVOLSC': 10, 'GASVOLSC': 11, 'WATVOLSC': 12, 'LIQVOLSC': 13, 'OILRATSC': 14, 'GASRATSC': 15, 'WATRATSC': 16, 'LIQRATSC': 17}\n",
      "  Elements:    {'P01': 0, 'I01': 1}\n",
      "  Parents:     {'P01': 'PROD-PRO', 'I01': 'INJ-PRO'}\n",
      "  Connections: {'P01': '', 'I01': ''}\n",
      "group\n",
      "  Timesteps:   [ 1  5 16]\n",
      "  Days:        [ 1. 31. 60.]\n",
      "  Dates:       ['2000-01-02 00:00:00', '2000-02-01 00:00:00']\n",
      "  Properties:  {'WELLOTIME': 0, 'NOPWING': 1, 'PMPRES': 2, 'GIMPRES': 3, 'WIMPRES': 4, 'PSPRES': 5, 'GISPRES': 6, 'WISPRES': 7, 'ONFRAC': 8, 'OILVOLSC': 9, 'GASVOLSC': 10, 'WATVOLSC': 11, 'LIQVOLSC': 12, 'OILVOLRC': 13, 'GASVOLRC': 14, 'WATVOLRC': 15, 'BHFVOLRC': 16, 'VOIDRATRC': 17, 'OILRATSC': 18, 'GASRATSC': 19, 'WATRATSC': 20, 'LIQRATSC': 21, 'OILRATRC': 22, 'GASRATRC': 23, 'WATRATRC': 24, 'BHFRATRC': 25}\n",
      "  Elements:    {'PROD-INJ': 0, 'PROD-PRO': 1, 'INJ-INJ': 2, 'INJ-PRO': 3, 'Default-Group-INJ': 4, 'Default-Group-PRO': 5, 'FIELD-INJ': 6, 'FIELD-PRO': 7}\n",
      "  Parents:     {'PROD-INJ': 'FIELD-INJ', 'PROD-PRO': 'FIELD-PRO', 'INJ-INJ': 'FIELD-INJ', 'INJ-PRO': 'FIELD-PRO', 'Default-Group-INJ': 'FIELD-INJ', 'Default-Group-PRO': 'FIELD-PRO', 'FIELD-INJ': '', 'FIELD-PRO': ''}\n",
      "  Connections: {'PROD-INJ': '', 'PROD-PRO': '', 'INJ-INJ': '', 'INJ-PRO': '', 'Default-Group-INJ': '', 'Default-Group-PRO': '', 'FIELD-INJ': '', 'FIELD-PRO': ''}\n",
      "sector\n",
      "  Timesteps:   [ 0  5 16]\n",
      "  Days:        [ 0. 31. 60.]\n",
      "  Dates:       ['2000-01-01 00:00:00', '2000-02-01 00:00:00']\n",
      "  Properties:  {'OILSECPRCM': 0, 'WATSECPRCM': 1, 'GASSECPRCM': 2, 'OILSECINCM': 3, 'WATSECINCM': 4, 'GASSECINCM': 5, 'WAQCUMSEC': 6, 'PHHCUMSEC': 7, 'GASSECAVSA': 8, 'OILSECSU': 9, 'WATSECSU': 10, 'GASSECSU': 11, 'TOGASSECSU': 12, 'OILSECPRRT': 13, 'WATSECPRRT': 14, 'GASSECPRRT': 15, 'OILSECINRT': 16, 'WATSECINRT': 17, 'GASSECINRT': 18, 'PVCUMSEC': 19, 'HPVCUMSEC': 20, 'OILSECRECU': 21, 'WATSECRECU': 22, 'GASSECRECU': 23, 'PRSCUMSEC': 24, 'PTDCUMSEC': 25, 'OILSECAVSA': 26, 'WATSECAVSA': 27, 'OILSECRECO': 28, 'WATSECRECO': 29, 'GASSECRECO': 30, 'MOILSECSU': 31, 'MOSECRECO': 32}\n",
      "  Elements:    {'MATRIX': 0, 'FRACTURE': 1, 'Entire  Field': 2}\n",
      "  Parents:     {'MATRIX': '', 'FRACTURE': '', 'Entire  Field': ''}\n",
      "  Connections: {'MATRIX': '', 'FRACTURE': '', 'Entire  Field': ''}\n",
      "layer\n",
      "  Timesteps:   [1]\n",
      "  Days:        [1.]\n",
      "  Dates:       ['2000-01-02 00:00:00']\n",
      "  Properties:  {'STATUS': 0}\n",
      "  Elements:    {'P01{1,2,1}': 0, 'I01{4,1,1}': 1}\n",
      "  Parents:     {'P01{1,2,1}': 'P01', 'I01{4,1,1}': 'I01'}\n",
      "  Connections: {'P01{1,2,1}': 4294967295, 'I01{4,1,1}': 4294967295}\n",
      "special\n",
      "  Timesteps:   [0 1 5]\n",
      "  Days:        [ 0.  1. 31.]\n",
      "  Dates:       ['2000-01-01 00:00:00', '2000-01-02 00:00:00']\n",
      "  Properties:  {'PRES  Average Reservoir Pressure.': 0, 'ELTSCUM': 1, 'ELTSRATE': 2, 'NCYCPTS': 3, 'DELTIME': 4, 'SOLITPN': 5, 'SOLITCUM': 6, 'NCYCCUM': 7, 'TSCUTCUM': 8, 'TSTEPCUM': 9}\n",
      "  Elements:    {'': 0}\n",
      "  Parents:     {'': ''}\n",
      "  Connections: {'': ''}\n",
      "grid\n",
      "  Timesteps:   [ 0  5 49]\n",
      "  Days:        [  0.  31. 366.]\n",
      "  Dates:       ['2000-01-01 00:00:00', '2000-02-01 00:00:00']\n",
      "  Properties:  {'IPSTCS': {'min': 2.0, 'max': 16.0, 'timesteps': set(), 'is_internal': True, 'is_complete': False, 'size': 14}, 'IPSTBT': {'min': 1.0, 'max': 2.0, 'timesteps': set(), 'is_internal': True, 'is_complete': False, 'size': 14}, 'IPSTAC': {'min': 1.0, 'max': 1.0, 'timesteps': set(), 'is_internal': True, 'is_complete': False, 'size': 14}, 'BLOCKDEPTH': {'min': 3005.5, 'max': 3008.5, 'timesteps': set(), 'is_internal': True, 'is_complete': True, 'size': 8}, 'BLOCKPVOL': {'min': 1980.0, 'max': 26000.0, 'timesteps': set(), 'is_internal': True, 'is_complete': False, 'size': 14}, 'PRES': {'min': 11191.719, 'max': 34061.633, 'timesteps': {0, 193, 5, 49, 85, 121, 157}, 'is_internal': False, 'is_complete': False, 'size': 14}, 'SG': {'min': 0.0, 'max': 5.551115e-17, 'timesteps': {0, 193, 5, 49, 85, 121, 157}, 'is_internal': False, 'is_complete': False, 'size': 14}, 'SO': {'min': 0.4723751, 'max': 0.82, 'timesteps': {0, 193, 5, 49, 85, 121, 157}, 'is_internal': False, 'is_complete': False, 'size': 14}, 'SW': {'min': 0.17999999, 'max': 0.5276249, 'timesteps': {0, 193, 5, 49, 85, 121, 157}, 'is_internal': False, 'is_complete': False, 'size': 14}, 'VISG': {'min': 1.8718787e-13, 'max': 3.1479292e-13, 'timesteps': {0, 193, 5, 49, 85, 121, 157}, 'is_internal': False, 'is_complete': False, 'size': 14}, 'VISO': {'min': 8.8062144e-12, 'max': 1.6778922e-11, 'timesteps': {0, 193, 5, 49, 85, 121, 157}, 'is_internal': False, 'is_complete': False, 'size': 14}, 'VISW': {'min': 1.4930555e-11, 'max': 1.4930555e-11, 'timesteps': {0, 193, 5, 49, 85, 121, 157}, 'is_internal': False, 'is_complete': False, 'size': 14}, 'PERMEFFI': {'min': 9.362776e-14, 'max': 2.96077e-13, 'timesteps': {0}, 'is_internal': False, 'is_complete': False, 'size': 14}, 'PERMEFFJ': {'min': 1.8725553e-13, 'max': 5.92154e-13, 'timesteps': {0}, 'is_internal': False, 'is_complete': False, 'size': 14}, 'PERMEFFK': {'min': 8.882309e-16, 'max': 2.96077e-15, 'timesteps': {0}, 'is_internal': False, 'is_complete': False, 'size': 14}, 'PERMINTI': {'min': 9.869233e-14, 'max': 1.9688995e-11, 'timesteps': {0}, 'is_internal': False, 'is_complete': False, 'size': 14}, 'PERMINTJ': {'min': 1.9738466e-13, 'max': 3.937799e-11, 'timesteps': {0}, 'is_internal': False, 'is_complete': False, 'size': 14}, 'PERMINTK': {'min': 9.869233e-16, 'max': 9.869233e-14, 'timesteps': {0}, 'is_internal': False, 'is_complete': False, 'size': 14}, 'TRMI': {'min': 1.0, 'max': 1.0, 'timesteps': {0}, 'is_internal': False, 'is_complete': False, 'size': 14}, 'TRMJ': {'min': 1.0, 'max': 1.0, 'timesteps': {0}, 'is_internal': False, 'is_complete': False, 'size': 14}, 'TRMK': {'min': 1.0, 'max': 1.0, 'timesteps': {0}, 'is_internal': False, 'is_complete': False, 'size': 14}, 'TRLI': {'min': 1.0, 'max': 1.0, 'timesteps': {0}, 'is_internal': False, 'is_complete': False, 'size': 14}, 'TRLJ': {'min': 1.0, 'max': 1.0, 'timesteps': {0}, 'is_internal': False, 'is_complete': False, 'size': 14}, 'TRLK': {'min': 1.0, 'max': 1.0, 'timesteps': {0}, 'is_internal': False, 'is_complete': False, 'size': 14}, 'TRMMF': {'min': 1.0, 'max': 1.0, 'timesteps': {0}, 'is_internal': False, 'is_complete': False, 'size': 14}, 'DIFRAC': {'min': 0.0, 'max': 10.0, 'timesteps': {0}, 'is_internal': False, 'is_complete': True, 'size': 8}, 'DJFRAC': {'min': 0.0, 'max': 10.0, 'timesteps': {0}, 'is_internal': False, 'is_complete': True, 'size': 8}, 'DKFRAC': {'min': 0.0, 'max': 0.0, 'timesteps': {0}, 'is_internal': False, 'is_complete': True, 'size': 8}, 'POR': {'min': 0.01, 'max': 0.13, 'timesteps': {0}, 'is_internal': False, 'is_complete': False, 'size': 14}, 'NET%2FGROSS': {'min': 1.0, 'max': 1.0, 'timesteps': {0}, 'is_internal': False, 'is_complete': False, 'size': 14}, 'MODBVOL': {'min': 174000.0, 'max': 200000.0, 'timesteps': {0}, 'is_internal': False, 'is_complete': False, 'size': 14}, 'SDSETN': {'min': 1.0, 'max': 1.0, 'timesteps': {0}, 'is_internal': False, 'is_complete': False, 'size': 14}, 'BKRWIRO': {'min': 1.0, 'max': 1.0, 'timesteps': {0}, 'is_internal': False, 'is_complete': False, 'size': 14}, 'BKROCW': {'min': 0.25, 'max': 0.25, 'timesteps': {0}, 'is_internal': False, 'is_complete': False, 'size': 14}, 'PCWMAX': {'min': 0.0, 'max': 0.0, 'timesteps': {0}, 'is_internal': False, 'is_complete': False, 'size': 14}, 'BKRGCL': {'min': 0.2, 'max': 0.2, 'timesteps': {0}, 'is_internal': False, 'is_complete': False, 'size': 14}, 'BKROGCG': {'min': 0.25, 'max': 0.25, 'timesteps': {0}, 'is_internal': False, 'is_complete': False, 'size': 14}, 'PCGMAX': {'min': 0.0, 'max': 0.0, 'timesteps': {0}, 'is_internal': False, 'is_complete': False, 'size': 14}}\n",
      "  Elements:    {'MATRIX': 0, 'FRACTURE': 7}\n",
      "  Parents:     {'MATRIX': '', 'FRACTURE': ''}\n",
      "  Connections: {'MATRIX': '', 'FRACTURE': ''}\n"
     ]
    }
   ],
   "source": [
    "_element = {'special':{'':0}, 'grid':{'MATRIX':0}}\n",
    "_parent = dict()\n",
    "_connection = dict()\n",
    "_property = dict()\n",
    "_timestep = dict()\n",
    "_day = dict()\n",
    "_date = dict()\n",
    "\n",
    "for el_type in ['well', 'group', 'sector', 'layer', 'special', 'grid']:\n",
    "    print(el_type)\n",
    "    print(f'  Timesteps:   {get_timesteps(el_type)[:3]}')\n",
    "    print(f'  Days:        {get_days(el_type)[:3]}')\n",
    "    print(f'  Dates:       {[d.strftime(\"%Y-%m-%d %H:%M:%S\") for d in get_dates(el_type)[:2]]}')\n",
    "    print(f'  Properties:  {get_properties(el_type)}')\n",
    "    print(f'  Elements:    {get_elements(el_type)}')\n",
    "    _get_parents(el_type)\n",
    "    print(f'  Parents:     {_parent[el_type]}')\n",
    "    _get_connections(el_type)\n",
    "    print(f'  Connections: {_connection[el_type]}')"
   ]
  },
  {
   "cell_type": "markdown",
   "metadata": {},
   "source": [
    "### Examples"
   ]
  },
  {
   "cell_type": "code",
   "execution_count": 123,
   "metadata": {},
   "outputs": [
    {
     "data": {
      "text/plain": [
       "array([[  45.        ,   36.74590336,  228.76743912, 2175.40721004,\n",
       "           0.        ,  247.8258119 ,    0.        ],\n",
       "       [  60.        ,   76.1165141 ,  101.9716213 , 4506.20064936,\n",
       "           0.        ,  141.21206272,    0.        ],\n",
       "       [  75.        ,   43.7374888 ,  101.9716213 , 2589.31853086,\n",
       "           0.        ,  124.36630372,    0.        ],\n",
       "       [  90.        ,   11.35846351,  101.9716213 ,  672.43641235,\n",
       "           0.        ,  107.52054471,    0.        ]])"
      ]
     },
     "execution_count": 123,
     "metadata": {},
     "output_type": "execute_result"
    }
   ],
   "source": [
    "get_data(days=[45, 60, 75, 90], element_type='well', property_names=['OILRATSC','BHP','GASRATSC'], element_names=['P01','I01'])"
   ]
  },
  {
   "cell_type": "code",
   "execution_count": 124,
   "metadata": {},
   "outputs": [
    {
     "ename": "KeyError",
     "evalue": "'P11'",
     "output_type": "error",
     "traceback": [
      "\u001b[1;31m---------------------------------------------------------------------------\u001b[0m",
      "\u001b[1;31mKeyError\u001b[0m                                  Traceback (most recent call last)",
      "Cell \u001b[1;32mIn[124], line 1\u001b[0m\n\u001b[1;32m----> 1\u001b[0m \u001b[43mget_data\u001b[49m\u001b[43m(\u001b[49m\u001b[43mdays\u001b[49m\u001b[38;5;241;43m=\u001b[39;49m\u001b[43m[\u001b[49m\u001b[38;5;241;43m45\u001b[39;49m\u001b[43m,\u001b[49m\u001b[43m \u001b[49m\u001b[38;5;241;43m60\u001b[39;49m\u001b[43m,\u001b[49m\u001b[43m \u001b[49m\u001b[38;5;241;43m75\u001b[39;49m\u001b[43m,\u001b[49m\u001b[43m \u001b[49m\u001b[38;5;241;43m90\u001b[39;49m\u001b[43m]\u001b[49m\u001b[43m,\u001b[49m\u001b[43m \u001b[49m\u001b[43melement_type\u001b[49m\u001b[38;5;241;43m=\u001b[39;49m\u001b[38;5;124;43m'\u001b[39;49m\u001b[38;5;124;43mwell\u001b[39;49m\u001b[38;5;124;43m'\u001b[39;49m\u001b[43m,\u001b[49m\u001b[43m \u001b[49m\u001b[43mproperty_names\u001b[49m\u001b[38;5;241;43m=\u001b[39;49m\u001b[43m[\u001b[49m\u001b[38;5;124;43m'\u001b[39;49m\u001b[38;5;124;43mOILRATSC\u001b[39;49m\u001b[38;5;124;43m'\u001b[39;49m\u001b[43m,\u001b[49m\u001b[38;5;124;43m'\u001b[39;49m\u001b[38;5;124;43mBHP\u001b[39;49m\u001b[38;5;124;43m'\u001b[39;49m\u001b[43m,\u001b[49m\u001b[38;5;124;43m'\u001b[39;49m\u001b[38;5;124;43mGASRATSC\u001b[39;49m\u001b[38;5;124;43m'\u001b[39;49m\u001b[43m]\u001b[49m\u001b[43m,\u001b[49m\u001b[43m \u001b[49m\u001b[43melement_names\u001b[49m\u001b[38;5;241;43m=\u001b[39;49m\u001b[43m[\u001b[49m\u001b[38;5;124;43m'\u001b[39;49m\u001b[38;5;124;43mP11\u001b[39;49m\u001b[38;5;124;43m'\u001b[39;49m\u001b[43m,\u001b[49m\u001b[38;5;124;43m'\u001b[39;49m\u001b[38;5;124;43mP12\u001b[39;49m\u001b[38;5;124;43m'\u001b[39;49m\u001b[43m,\u001b[49m\u001b[38;5;124;43m'\u001b[39;49m\u001b[38;5;124;43mI11\u001b[39;49m\u001b[38;5;124;43m'\u001b[39;49m\u001b[43m]\u001b[49m\u001b[43m)\u001b[49m\n",
      "Cell \u001b[1;32mIn[110], line 90\u001b[0m, in \u001b[0;36mget_data\u001b[1;34m(days, element_type, property_names, element_names, raw_data)\u001b[0m\n\u001b[0;32m     88\u001b[0m \u001b[38;5;28;01mdef\u001b[39;00m \u001b[38;5;21mget_data\u001b[39m(days\u001b[38;5;241m=\u001b[39m\u001b[38;5;28;01mNone\u001b[39;00m, element_type\u001b[38;5;241m=\u001b[39m\u001b[38;5;28;01mNone\u001b[39;00m, property_names\u001b[38;5;241m=\u001b[39m\u001b[38;5;28;01mNone\u001b[39;00m, element_names\u001b[38;5;241m=\u001b[39m[\u001b[38;5;124m'\u001b[39m\u001b[38;5;124m'\u001b[39m], raw_data\u001b[38;5;241m=\u001b[39m\u001b[38;5;28;01mNone\u001b[39;00m):\n\u001b[0;32m     89\u001b[0m     \u001b[38;5;28;01mif\u001b[39;00m raw_data \u001b[38;5;129;01mis\u001b[39;00m \u001b[38;5;28;01mNone\u001b[39;00m:\n\u001b[1;32m---> 90\u001b[0m         raw_data \u001b[38;5;241m=\u001b[39m \u001b[43m_get_raw_data\u001b[49m\u001b[43m(\u001b[49m\u001b[43melement_type\u001b[49m\u001b[38;5;241;43m=\u001b[39;49m\u001b[43melement_type\u001b[49m\u001b[43m,\u001b[49m\u001b[43m \u001b[49m\u001b[43mproperty_names\u001b[49m\u001b[38;5;241;43m=\u001b[39;49m\u001b[43mproperty_names\u001b[49m\u001b[43m,\u001b[49m\u001b[43m \u001b[49m\u001b[43melement_names\u001b[49m\u001b[38;5;241;43m=\u001b[39;49m\u001b[43melement_names\u001b[49m\u001b[43m,\u001b[49m\u001b[43m \u001b[49m\u001b[43mwith_days\u001b[49m\u001b[38;5;241;43m=\u001b[39;49m\u001b[38;5;28;43;01mTrue\u001b[39;49;00m\u001b[43m)\u001b[49m\n\u001b[0;32m     91\u001b[0m     \u001b[38;5;28;01mif\u001b[39;00m days \u001b[38;5;129;01mis\u001b[39;00m \u001b[38;5;28;01mNone\u001b[39;00m:\n\u001b[0;32m     92\u001b[0m         data \u001b[38;5;241m=\u001b[39m raw_data\n",
      "Cell \u001b[1;32mIn[110], line 62\u001b[0m, in \u001b[0;36m_get_raw_data\u001b[1;34m(element_type, property_names, element_names, with_dates, with_days, with_timesteps)\u001b[0m\n\u001b[0;32m     59\u001b[0m         \u001b[38;5;28;01mreturn\u001b[39;00m [index_dict[name_list]]\n\u001b[0;32m     61\u001b[0m property_indexes \u001b[38;5;241m=\u001b[39m _get_indexes(property_names, get_properties(element_type))\n\u001b[1;32m---> 62\u001b[0m element_indexes \u001b[38;5;241m=\u001b[39m \u001b[43m_get_indexes\u001b[49m\u001b[43m(\u001b[49m\u001b[43melement_names\u001b[49m\u001b[43m,\u001b[49m\u001b[43m \u001b[49m\u001b[43mget_elements\u001b[49m\u001b[43m(\u001b[49m\u001b[43melement_type\u001b[49m\u001b[43m)\u001b[49m\u001b[43m)\u001b[49m\n\u001b[0;32m     64\u001b[0m dataset \u001b[38;5;241m=\u001b[39m _get_dataset(element_type\u001b[38;5;241m=\u001b[39melement_type, dataset_string\u001b[38;5;241m=\u001b[39m\u001b[38;5;124m'\u001b[39m\u001b[38;5;124mData\u001b[39m\u001b[38;5;124m'\u001b[39m)\n\u001b[0;32m     66\u001b[0m data \u001b[38;5;241m=\u001b[39m _get_dataset_2D_data(dataset, property_indexes,element_indexes)\n",
      "Cell \u001b[1;32mIn[110], line 57\u001b[0m, in \u001b[0;36m_get_raw_data.<locals>._get_indexes\u001b[1;34m(name_list, index_dict)\u001b[0m\n\u001b[0;32m     55\u001b[0m \u001b[38;5;28;01mdef\u001b[39;00m \u001b[38;5;21m_get_indexes\u001b[39m(name_list, index_dict):\n\u001b[0;32m     56\u001b[0m     \u001b[38;5;28;01mif\u001b[39;00m \u001b[38;5;28misinstance\u001b[39m(name_list, \u001b[38;5;28mlist\u001b[39m):\n\u001b[1;32m---> 57\u001b[0m         \u001b[38;5;28;01mreturn\u001b[39;00m [\u001b[43mindex_dict\u001b[49m\u001b[43m[\u001b[49m\u001b[43mname\u001b[49m\u001b[43m]\u001b[49m \u001b[38;5;28;01mfor\u001b[39;00m name \u001b[38;5;129;01min\u001b[39;00m name_list]\n\u001b[0;32m     58\u001b[0m     \u001b[38;5;28;01melse\u001b[39;00m:\n\u001b[0;32m     59\u001b[0m         \u001b[38;5;28;01mreturn\u001b[39;00m [index_dict[name_list]]\n",
      "\u001b[1;31mKeyError\u001b[0m: 'P11'"
     ]
    }
   ],
   "source": [
    "get_data(days=[45, 60, 75, 90], element_type='well', property_names=['OILRATSC','BHP','GASRATSC'], element_names=['P11','P12','I11'])"
   ]
  },
  {
   "cell_type": "code",
   "execution_count": null,
   "metadata": {},
   "outputs": [],
   "source": [
    "y = get_data(days=[45, 60, 75, 90], element_type='well',property_names='BHP',element_names='P11')"
   ]
  },
  {
   "cell_type": "code",
   "execution_count": null,
   "metadata": {},
   "outputs": [
    {
     "data": {
      "image/png": "[encoded data removed]",
      "text/plain": [
       "<Figure size 800x500 with 2 Axes>"
      ]
     },
     "metadata": {},
     "output_type": "display_data"
    }
   ],
   "source": [
    "get_data_and_plot(element_type='group', property_names=['OILVOLSC','WATVOLSC'], element_names=['FIELD-PRO','FIELD-INJ'], \n",
    "                  keep_all_zeros_series=False, \n",
    "                  line_styles=['g-','b-','g-','c*'], \n",
    "                  use_secondary_axis=True,\n",
    "                  keep_legend_outside=False)"
   ]
  },
  {
   "cell_type": "code",
   "execution_count": null,
   "metadata": {},
   "outputs": [
    {
     "data": {
      "image/png": "[encoded data removed]",
      "text/plain": [
       "<Figure size 800x500 with 2 Axes>"
      ]
     },
     "metadata": {},
     "output_type": "display_data"
    }
   ],
   "source": [
    "get_data_and_plot(element_type='well', property_names=['OILRATSC','WATRATSC', 'BHP'], element_names=['P01','I01'], \n",
    "                  keep_all_zeros_series=False, \n",
    "                  keep_legend_outside=True, \n",
    "                  use_secondary_axis=True)"
   ]
  },
  {
   "cell_type": "markdown",
   "metadata": {},
   "source": [
    "## Grid Properties"
   ]
  },
  {
   "cell_type": "code",
   "execution_count": null,
   "metadata": {},
   "outputs": [
    {
     "name": "stdout",
     "output_type": "stream",
     "text": [
      "4x2x1 = 8 cells\n",
      "active: 14 cells (175.00%)\n"
     ]
    }
   ],
   "source": [
    "ni, nj, nk, n_active = _get_grid_sizes()\n",
    "n_cells = ni*nj*nk\n",
    "print(f'{ni}x{nj}x{nk} = {format(n_cells,\",\")} cells')\n",
    "print(f'active: {format(n_active,\",\")} cells ({(n_active/n_cells*100):.2f}%)')"
   ]
  },
  {
   "cell_type": "markdown",
   "metadata": {},
   "source": [
    "* Função para retornar i,j,k em função do cell_#\n",
    "* Retornar dados de grid com o get_data\n",
    "* Fazer interpolação de dados de grid\n",
    "* Distinguir entre propriedades de malha completos e só de células ativas\n",
    "* Montar array 3D com dados de malha completos\n",
    "* Montar array 3D com dados de malha só de células ativas\n",
    "\n",
    "* Retornar lista de propriedades com as funções get_properties\n",
    "    * Limitar às propriedades de grid completas e de células ativas.\n",
    "* Get_elements vai ser apenas MATRIX\n",
    "\n",
    "* Montar propriedades específicas de coordenadas de célula."
   ]
  },
  {
   "cell_type": "code",
   "execution_count": null,
   "metadata": {},
   "outputs": [
    {
     "name": "stdout",
     "output_type": "stream",
     "text": [
      "  BLOCKDEPTH: 533,403 -> Grid block depths for all layers\n",
      "  BLOCKPVOL: 67,241 -> Block pore volume\n",
      "  BLOCKS: 4,267,224 -> Grid Block connectivity of Node Based Corner Point Grid\n",
      "  BLOCKSIZE: 1,600,209 -> Grid block sizes in three directions\n",
      "  BVOL: 67,241 -> Gross Block Volume = dx*dy*dz\n",
      "  ICNTDR: 176,572 -> Connection direction\n",
      "  ICSTBC: 533,403 -> Complete storage to block type\n",
      "  ICSTCG: 533,403 -> Complete storage to child grid\n",
      "  ICSTGN: 533,403 -> Complete storage to grid number\n",
      "  ICSTPB: 533,403 -> Complete storage to parent block\n",
      "  ICSTPS: 533,403 -> Complete storage to packed storage\n",
      "  ICTPS1: 176,572 -> Connection to lower packed storage\n",
      "  ICTPS2: 176,572 -> Connection to upper packed storage\n",
      "  IGNTFR: 1 -> Grid number to first fracture CS index\n",
      "  IGNTGT: 1 -> Grid number to grid type\n",
      "  IGNTID: 1 -> Grid number to no. of I direction blocks\n",
      "  IGNTJD: 1 -> Grid number to no. of J direction blocks\n",
      "  IGNTKD: 1 -> Grid number to no. of K direction blocks\n",
      "  IGNTNC: 2 -> Grid number to last block CS index\n",
      "  IGNTNS: 2 -> Grid number to last block SS index\n",
      "  IGNTZA: 1 -> Grid number to local Z direction\n",
      "  IPSTAC: 67,241 -> Packed storage to active status\n",
      "  IPSTBT: 67,241 -> Packed storage to block type\n",
      "  IPSTCS: 67,241 -> Packed storage to complete storage\n",
      "  ISECTGEOM: 67,242 -> Sector geometry array\n",
      "  NODES: 1,886,853 -> Grid Nodes' Coordinates, Node Based Corner Point Grid\n",
      "  WELLRADIUS: 1 -> Radius of wellbore in centre of grid\n"
     ]
    }
   ],
   "source": [
    "dataset = f['SpatialProperties/000000/GRID']\n",
    "for key in dataset.keys():\n",
    "    sub_dataset = f[f\"SpatialProperties/000000/GRID/{key}\"]\n",
    "    size = '{:,}'.format(sub_dataset.size)\n",
    "    print(f'  {key}: {size} -> {property_list[key][\"long name\"]}')"
   ]
  },
  {
   "cell_type": "code",
   "execution_count": null,
   "metadata": {},
   "outputs": [
    {
     "data": {
      "text/plain": [
       "{'ICSTBC': {'min': -2.0, 'max': 0.0, 'timesteps': set(), 'size': 533403},\n",
       " 'ICSTCG': {'min': 0.0, 'max': 0.0, 'timesteps': set(), 'size': 533403},\n",
       " 'ICSTGN': {'min': 1.0, 'max': 1.0, 'timesteps': set(), 'size': 533403},\n",
       " 'ICSTPS': {'min': 0.0, 'max': 67241.0, 'timesteps': set(), 'size': 533403},\n",
       " 'ICSTPB': {'min': 1.0, 'max': 533403.0, 'timesteps': set(), 'size': 533403},\n",
       " 'IPSTCS': {'min': 373.0, 'max': 533075.0, 'timesteps': set(), 'size': 67241},\n",
       " 'IPSTBT': {'min': 9.0, 'max': 9.0, 'timesteps': set(), 'size': 67241},\n",
       " 'IPSTAC': {'min': 1.0, 'max': 1.0, 'timesteps': set(), 'size': 67241},\n",
       " 'IGNTID': {'min': 47.0, 'max': 47.0, 'timesteps': set(), 'size': 1},\n",
       " 'IGNTJD': {'min': 39.0, 'max': 39.0, 'timesteps': set(), 'size': 1},\n",
       " 'IGNTKD': {'min': 291.0, 'max': 291.0, 'timesteps': set(), 'size': 1},\n",
       " 'IGNTZA': {'min': 0.0, 'max': 0.0, 'timesteps': set(), 'size': 1},\n",
       " 'IGNTGT': {'min': 12.0, 'max': 12.0, 'timesteps': set(), 'size': 1},\n",
       " 'IGNTFR': {'min': 533404.0, 'max': 533404.0, 'timesteps': set(), 'size': 1},\n",
       " 'IGNTNC': {'min': 0.0, 'max': 533403.0, 'timesteps': set(), 'size': 2},\n",
       " 'IGNTNS': {'min': 0.0, 'max': 533403.0, 'timesteps': set(), 'size': 2},\n",
       " 'ICTPS1': {'min': 1.0, 'max': 67238.0, 'timesteps': set(), 'size': 176572},\n",
       " 'ICTPS2': {'min': 3.0, 'max': 67240.0, 'timesteps': set(), 'size': 176572},\n",
       " 'ICNTDR': {'min': 1.0, 'max': 3.0, 'timesteps': set(), 'size': 176572},\n",
       " 'BLOCKSIZE': {'min': 0.0,\n",
       "  'max': 277.3068,\n",
       "  'timesteps': set(),\n",
       "  'size': 1600209},\n",
       " 'BLOCKDEPTH': {'min': 5092.376,\n",
       "  'max': 5818.083,\n",
       "  'timesteps': set(),\n",
       "  'size': 533403},\n",
       " 'NODES': {'min': 5081.534,\n",
       "  'max': 7282220.5,\n",
       "  'timesteps': set(),\n",
       "  'size': 1886853},\n",
       " 'BLOCKS': {'min': 1.0, 'max': 628951.0, 'timesteps': set(), 'size': 4267224},\n",
       " 'ISECTGEOM': {'min': -1.0,\n",
       "  'max': 533075.0,\n",
       "  'timesteps': set(),\n",
       "  'size': 67242},\n",
       " 'BLOCKPVOL': {'min': 2000.1254,\n",
       "  'max': 92200.94,\n",
       "  'timesteps': set(),\n",
       "  'size': 67241},\n",
       " 'BVOL': {'min': 9696.793,\n",
       "  'max': 241620.36,\n",
       "  'timesteps': set(),\n",
       "  'size': 67241},\n",
       " 'WELLRADIUS': {'min': -100000000.0,\n",
       "  'max': -100000000.0,\n",
       "  'timesteps': set(),\n",
       "  'size': 1}}"
      ]
     },
     "execution_count": 25,
     "metadata": {},
     "output_type": "execute_result"
    }
   ],
   "source": [
    "{p:grid_property_list[p] for p in grid_property_list if len(grid_property_list[p]['timesteps'])==0}"
   ]
  },
  {
   "cell_type": "markdown",
   "metadata": {},
   "source": [
    "## Get Coordinates"
   ]
  },
  {
   "cell_type": "code",
   "execution_count": null,
   "metadata": {},
   "outputs": [],
   "source": [
    "_CHUNK_SIZE = 1200\n",
    "\n",
    "def expand_list(original_list, items=1):\n",
    "    expanded_list = []\n",
    "    for value in original_list:\n",
    "        value_shift = (value-1)*items\n",
    "        expanded_list.append(value_shift)\n",
    "        for new_value in range(value_shift + 1, value_shift + items):\n",
    "            expanded_list.append(new_value)\n",
    "    return expanded_list\n",
    "\n",
    "def get_dataset_data(dataset, values_list):\n",
    "    if not is_iterable(values_list):\n",
    "        return dataset[values_list]\n",
    "    x_ordered = list(set(values_list)).copy()\n",
    "    x_ordered.sort()\n",
    "    sub_x_ordered = np.array_split(x_ordered, int(len(x_ordered)/_CHUNK_SIZE)+1)\n",
    "    y_dict = dict()\n",
    "    for x in sub_x_ordered:\n",
    "        y = dataset[x]\n",
    "        for x,y in zip(x, y):\n",
    "            y_dict[x] = y        \n",
    "    return  np.array([y_dict[x] for x in values_list])\n",
    "    \n",
    "def get_cel_number(i,j,k, can_be_iterable=True):\n",
    "    if can_be_iterable and is_iterable(i):\n",
    "        return [ii + ni*(jj-1 + (kk-1)*nj) for (ii,jj,kk) in zip(i,j,k)]\n",
    "    return i + ni*(j-1 + (k-1)*nj)\n",
    "\n",
    "def get_nodes_index(i,j=None,k=None, can_be_iterable=True):\n",
    "    dataset = f['SpatialProperties/000000/GRID/BLOCKS']\n",
    "    if can_be_iterable and is_iterable(i):\n",
    "        if j is not None:\n",
    "            i = get_cel_number(i,j,k)\n",
    "        y = get_dataset_data(dataset, expand_list(i, 8))\n",
    "        return np.reshape(y, (-1, 8))      \n",
    "    if j is not None:\n",
    "        i = get_cel_number(i,j,k)\n",
    "    return dataset[(i-1)*8:i*8]\n",
    "\n",
    "def get_cell_coordinates(i,j=None,k=None, can_be_iterable=True):\n",
    "    dataset = f['SpatialProperties/000000/GRID/NODES']\n",
    "    if can_be_iterable and is_iterable(i):\n",
    "        if j is not None:\n",
    "            i = get_cel_number(i,j,k)\n",
    "        nodes = get_nodes_index(i)\n",
    "        y = get_dataset_data(dataset, expand_list(nodes.flatten(), 3))\n",
    "        return y.reshape((len(i), 8, 3))\n",
    "    if j is not None:\n",
    "        i = get_cel_number(i,j,k)\n",
    "    return [dataset[(n-1)*3:n*3] for n in get_nodes_index(i)]"
   ]
  },
  {
   "cell_type": "code",
   "execution_count": null,
   "metadata": {},
   "outputs": [
    {
     "name": "stdout",
     "output_type": "stream",
     "text": [
      "Elapsed time: 0:00:07.061087\n"
     ]
    }
   ],
   "source": [
    "size = 2000\n",
    "i_list = list(np.random.randint(low=1, high=ni, size=size))\n",
    "j_list = list(np.random.randint(low=1, high=nj, size=size))\n",
    "k_list = list(np.random.randint(low=1, high=nk, size=size))\n",
    "\n",
    "cells = get_cel_number(i_list,j_list,k_list)\n",
    "\n",
    "start_time = datetime.now()\n",
    "x = get_cell_coordinates(cells)\n",
    "end_time = datetime.now()\n",
    "print(f'Elapsed time: {end_time - start_time}')"
   ]
  },
  {
   "cell_type": "code",
   "execution_count": null,
   "metadata": {},
   "outputs": [],
   "source": [
    "def time_function(func, size):\n",
    "    i_list = list(np.random.randint(low=1, high=ni, size=size))\n",
    "    j_list = list(np.random.randint(low=1, high=nj, size=size))\n",
    "    k_list = list(np.random.randint(low=1, high=nk, size=size))\n",
    "    cells = get_cel_number(i_list,j_list,k_list)\n",
    "\n",
    "    start_time = datetime.now()\n",
    "    _ = func(cells)\n",
    "    end_time = datetime.now()\n",
    "    # print(f'{s} elemts: {end_time - start_time} ({(end_time - start_time)/s*1000} per 1000 elemts)')\n",
    "    return (end_time - start_time)/size*1000 \n",
    "\n",
    "def time_function_sens(func, arguments_sizes):\n",
    "    t = []\n",
    "    for s in arguments_sizes:\n",
    "        t.append(time_function(func, s))\n",
    "    return t\n",
    "\n",
    "def time_function_opt(func, min_val, max_val, fmin_val=None, fmax_val=None):\n",
    "    if fmin_val is None:\n",
    "        fmin_val = time_function(func, min_val)\n",
    "        print(f'{min_val} => {fmin_val}')\n",
    "    if fmax_val is None:\n",
    "        fmax_val = time_function(func, max_val)\n",
    "        print(f'{max_val} => {fmax_val}')\n",
    "    a_val = int((2*min_val + max_val)/3)\n",
    "    b_val = int((min_val + 2*max_val)/3)\n",
    "    if a_val == min_val or b_val == max_val:\n",
    "        if fmin_val < fmax_val:\n",
    "            return min_val\n",
    "        else:\n",
    "            return max_val\n",
    "    fa_val = time_function(func, a_val)\n",
    "    fb_val = time_function(func, b_val)\n",
    "    print(f'{a_val} => {fa_val}')\n",
    "    print(f'{b_val} => {fb_val}')\n",
    "    if fa_val < fb_val:\n",
    "        return time_function_opt(func, min_val, b_val, fmin_val, fb_val)\n",
    "    else:\n",
    "        return time_function_opt(func, a_val, max_val, fa_val, fmax_val)\n",
    "\n",
    "\n",
    "# t = time_function_sens(get_nodes_index, [100, 200, 500, 1000, 2000, 5000])\n",
    "    \n"
   ]
  }
 ],
 "metadata": {
  "kernelspec": {
   "display_name": ".venv",
   "language": "python",
   "name": "python3"
  },
  "language_info": {
   "codemirror_mode": {
    "name": "ipython",
    "version": 3
   },
   "file_extension": ".py",
   "mimetype": "text/x-python",
   "name": "python",
   "nbconvert_exporter": "python",
   "pygments_lexer": "ipython3",
   "version": "3.12.1"
  }
 },
 "nbformat": 4,
 "nbformat_minor": 2
}
