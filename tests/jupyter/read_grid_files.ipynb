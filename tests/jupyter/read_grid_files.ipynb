{
 "cells": [
  {
   "cell_type": "markdown",
   "metadata": {},
   "source": [
    "## Read Grid Files\n",
    "\n",
    "* Read CMG-style grid files.\n",
    "* Count number of values.\n",
    "* Output in n*x style."
   ]
  },
  {
   "cell_type": "code",
   "execution_count": 7,
   "metadata": {},
   "outputs": [],
   "source": [
    "from pathlib import Path"
   ]
  },
  {
   "cell_type": "code",
   "execution_count": 89,
   "metadata": {},
   "outputs": [
    {
     "name": "stdout",
     "output_type": "stream",
     "text": [
      "File PERMK.geo exists => True\n",
      "File RTYPE.geo exists => True\n"
     ]
    }
   ],
   "source": [
    "test_file1 = Path(r'..\\gridfiles\\PERMK.geo').resolve()\n",
    "print(f'File {test_file1.name} exists => {test_file1.is_file()}')\n",
    "\n",
    "test_file2 = Path(r'..\\gridfiles\\RTYPE.geo').resolve()\n",
    "print(f'File {test_file2.name} exists => {test_file2.is_file()}')"
   ]
  },
  {
   "cell_type": "code",
   "execution_count": 87,
   "metadata": {},
   "outputs": [],
   "source": [
    "def parse_grid_file(file_path):\n",
    "    data = {'command':'', 'comments':list(), 'values':list()}\n",
    "\n",
    "    def is_number(s):\n",
    "        try:\n",
    "            float(s)\n",
    "            return True\n",
    "        except ValueError:\n",
    "            return False\n",
    "        \n",
    "    def int_or_float(s):\n",
    "        try:\n",
    "            x = int(s)\n",
    "            return x\n",
    "        except ValueError:\n",
    "            try:\n",
    "                x = float(s)\n",
    "                return x\n",
    "            except ValueError:\n",
    "                raise ValueError(\"Input string is not a valid number\")\n",
    "\n",
    "    def is_line_with_values(line):\n",
    "        parts = line.split(' ')\n",
    "        parts = parts[0].split('*')\n",
    "        return is_number(parts[0])\n",
    "\n",
    "    with file_path.open(mode='r') as file:\n",
    "        for line in file:\n",
    "            line = line.strip()\n",
    "            if line == '':\n",
    "                pass\n",
    "            elif line.startswith('**'):\n",
    "                data['comments'].append(line)\n",
    "            elif not is_line_with_values(line):\n",
    "                if data['command'] != '':\n",
    "                    raise ValueError(\"Input file is not a grid file!\")\n",
    "                data['command'] = line\n",
    "            else:\n",
    "                parts = line.split('**')\n",
    "                parts = parts[0].strip().split(' ')\n",
    "                for n in parts:\n",
    "                    value = n.split('*')\n",
    "                    if len(value) == 1:\n",
    "                        data['values'].append(int_or_float(value[0]))\n",
    "                    else:\n",
    "                        data['values'].extend([int_or_float(value[1]) for i in range(int_or_float(value[0]))])\n",
    "\n",
    "    if len(data['values']) == 0:\n",
    "        raise ValueError(\"Input file is not a grid file!\")\n",
    "    return data"
   ]
  },
  {
   "cell_type": "code",
   "execution_count": 63,
   "metadata": {},
   "outputs": [],
   "source": [
    "_Max_line = 80\n",
    "\n",
    "def write_grid_file(data, file_path):\n",
    "    lines = [c for c in data['comments']]\n",
    "    lines.append(data['command'])\n",
    "\n",
    "    current_line = ''\n",
    "    def add_line(s, current_line):\n",
    "        if len(current_line) + len(s) > _Max_line:\n",
    "            lines.append(current_line)\n",
    "            current_line = ''\n",
    "        return current_line + s\n",
    "\n",
    "    current_value = 0\n",
    "    n_values = 0\n",
    "    for value in data['values']:\n",
    "        if value == current_value:\n",
    "            n_values += 1\n",
    "        else:\n",
    "            if n_values == 1:\n",
    "                current_line = add_line(s=' '+str(current_value), current_line=current_line)\n",
    "            elif n_values > 1:\n",
    "                current_line = add_line(s=' '+str(n_values)+'*'+str(current_value), current_line=current_line)\n",
    "            current_value = value\n",
    "            n_values = 1\n",
    "\n",
    "    if n_values == 1:\n",
    "        lines.append(current_line+' '+str(current_value))\n",
    "    elif n_values > 1:\n",
    "        lines.append(current_line+' '+str(n_values)+'*'+str(current_value))\n",
    "\n",
    "    content = '\\n'.join(lines)\n",
    "    file_path.write_text(content)"
   ]
  },
  {
   "cell_type": "code",
   "execution_count": 81,
   "metadata": {},
   "outputs": [],
   "source": [
    "def count_values_grid_file(file_path):\n",
    "    try:\n",
    "        data = parse_grid_file(file_path)\n",
    "        return len(data['values'])\n",
    "    except ValueError:\n",
    "        return 0"
   ]
  },
  {
   "cell_type": "code",
   "execution_count": 91,
   "metadata": {},
   "outputs": [],
   "source": [
    "def rewrite_grid_file(file_path, new_suffix=None, verbose=False):\n",
    "    if file_path.is_dir():\n",
    "        for file in file_path.iterdir():\n",
    "            if file.is_file():\n",
    "                rewrite_grid_file(file, new_suffix, True)\n",
    "    else:\n",
    "        try:\n",
    "            if verbose:\n",
    "                print(f'Parsing {file_path.name}...')\n",
    "            data = parse_grid_file(file_path)\n",
    "            out_file_path = file_path\n",
    "            if new_suffix is not None:\n",
    "                out_file_path = file_path.with_suffix(new_suffix)\n",
    "            if verbose:\n",
    "                print(f'Exporting {out_file_path.name}...')\n",
    "            write_grid_file(data=data, file_path=out_file_path)\n",
    "        except ValueError:\n",
    "            print(f'Could not parse {file_path.name}')"
   ]
  },
  {
   "cell_type": "code",
   "execution_count": 92,
   "metadata": {},
   "outputs": [
    {
     "name": "stdout",
     "output_type": "stream",
     "text": [
      "Original file: 533403 values\n",
      "New file:      533403 values\n"
     ]
    }
   ],
   "source": [
    "data1 = parse_grid_file(test_file1)\n",
    "write_grid_file(data=data1, file_path=test_file1.with_suffix('.new'))\n",
    "print(f'Original file: {count_values_grid_file(test_file1)} values')\n",
    "print(f'New file:      {count_values_grid_file(test_file1.with_suffix('.new'))} values')"
   ]
  },
  {
   "cell_type": "code",
   "execution_count": 93,
   "metadata": {},
   "outputs": [
    {
     "name": "stdout",
     "output_type": "stream",
     "text": [
      "Original file: 533403 values\n",
      "New file:      533403 values\n"
     ]
    }
   ],
   "source": [
    "data2 = parse_grid_file(test_file2)\n",
    "write_grid_file(data=data2, file_path=test_file2.with_suffix('.new'))\n",
    "print(f'Original file: {count_values_grid_file(test_file2)} values')\n",
    "print(f'New file:      {count_values_grid_file(test_file2.with_suffix('.new'))} values')"
   ]
  },
  {
   "cell_type": "code",
   "execution_count": 94,
   "metadata": {},
   "outputs": [
    {
     "name": "stdout",
     "output_type": "stream",
     "text": [
      "Parsing PERMK.geo...\n",
      "Exporting PERMK.geo...\n",
      "Parsing PERMK.new...\n",
      "Exporting PERMK.new...\n",
      "Parsing RTYPE.geo...\n",
      "Exporting RTYPE.geo...\n",
      "Parsing RTYPE.new...\n",
      "Exporting RTYPE.new...\n",
      "Parsing RTYPE_error.geo...\n",
      "Could not parse RTYPE_error.geo\n",
      "Parsing RTYPE_error2.geo...\n",
      "Could not parse RTYPE_error2.geo\n"
     ]
    }
   ],
   "source": [
    "rewrite_grid_file(test_file1.parent)"
   ]
  }
 ],
 "metadata": {
  "kernelspec": {
   "display_name": "Python 3",
   "language": "python",
   "name": "python3"
  },
  "language_info": {
   "codemirror_mode": {
    "name": "ipython",
    "version": 3
   },
   "file_extension": ".py",
   "mimetype": "text/x-python",
   "name": "python",
   "nbconvert_exporter": "python",
   "pygments_lexer": "ipython3",
   "version": "3.12.1"
  }
 },
 "nbformat": 4,
 "nbformat_minor": 2
}
