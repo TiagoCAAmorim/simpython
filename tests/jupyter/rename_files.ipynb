{
 "cells": [
  {
   "cell_type": "code",
   "execution_count": 2,
   "metadata": {},
   "outputs": [],
   "source": [
    "import os"
   ]
  },
  {
   "cell_type": "code",
   "execution_count": 1,
   "metadata": {},
   "outputs": [],
   "source": [
    "def change_file_extensions(folder_path, old_extension, new_extension):\n",
    "    \"\"\"\n",
    "    Function to change the extensions of all files in a folder from old_extension to new_extension.\n",
    "    \n",
    "    Parameters:\n",
    "        folder_path (str): Path to the folder containing the files.\n",
    "        old_extension (str): Old extension to be replaced.\n",
    "        new_extension (str): New extension to replace the old extension.\n",
    "        \n",
    "    Returns:\n",
    "        None\n",
    "    \"\"\"\n",
    "    # Iterate through all files in the folder\n",
    "    for filename in os.listdir(folder_path):\n",
    "        # Check if the file has the old extension\n",
    "        if filename.endswith(old_extension):\n",
    "            # Construct the new filename with the new extension\n",
    "            new_filename = os.path.splitext(filename)[0] + new_extension\n",
    "            # Rename the file\n",
    "            os.rename(os.path.join(folder_path, filename), os.path.join(folder_path, new_filename))"
   ]
  },
  {
   "cell_type": "code",
   "execution_count": 3,
   "metadata": {},
   "outputs": [],
   "source": [
    "folder_path = r\"C:\\Users\\tiago.LENOVO-I7\\Unicamp\\PHD\\SimModels\\Unisim_iv_2024\\grid\\2024\\uncertainty\"\n",
    "old_extension = \".inc\"\n",
    "new_extension = \".geo\"\n",
    "\n",
    "change_file_extensions(folder_path, old_extension, new_extension)\n"
   ]
  }
 ],
 "metadata": {
  "kernelspec": {
   "display_name": "Python 3",
   "language": "python",
   "name": "python3"
  },
  "language_info": {
   "codemirror_mode": {
    "name": "ipython",
    "version": 3
   },
   "file_extension": ".py",
   "mimetype": "text/x-python",
   "name": "python",
   "nbconvert_exporter": "python",
   "pygments_lexer": "ipython3",
   "version": "3.12.1"
  }
 },
 "nbformat": 4,
 "nbformat_minor": 2
}
